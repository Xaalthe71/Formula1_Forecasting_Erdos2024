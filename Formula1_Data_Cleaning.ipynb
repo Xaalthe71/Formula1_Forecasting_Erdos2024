{
 "cells": [
  {
   "cell_type": "code",
   "execution_count": 1,
   "id": "87ae2343",
   "metadata": {},
   "outputs": [],
   "source": [
    "import numpy as np\n",
    "import pandas as pd\n",
    "import matplotlib.pyplot as plt\n",
    "from sklearn.linear_model import LinearRegression\n",
    "from sklearn.model_selection import train_test_split\n",
    "from tqdm import tqdm\n",
    "\n",
    "import seaborn as sns\n",
    "import time \n",
    "import datetime\n",
    "import re\n",
    "\n",
    "import torch"
   ]
  },
  {
   "cell_type": "code",
   "execution_count": 2,
   "id": "41fb3bce",
   "metadata": {},
   "outputs": [],
   "source": [
    "df= pd.read_csv('./2016to2023F1PracticeAndQual.csv')"
   ]
  },
  {
   "cell_type": "code",
   "execution_count": 3,
   "id": "8c54bc35",
   "metadata": {},
   "outputs": [
    {
     "data": {
      "text/html": [
       "<div>\n",
       "<style scoped>\n",
       "    .dataframe tbody tr th:only-of-type {\n",
       "        vertical-align: middle;\n",
       "    }\n",
       "\n",
       "    .dataframe tbody tr th {\n",
       "        vertical-align: top;\n",
       "    }\n",
       "\n",
       "    .dataframe thead th {\n",
       "        text-align: right;\n",
       "    }\n",
       "</style>\n",
       "<table border=\"1\" class=\"dataframe\">\n",
       "  <thead>\n",
       "    <tr style=\"text-align: right;\">\n",
       "      <th></th>\n",
       "      <th>Pos</th>\n",
       "      <th>No</th>\n",
       "      <th>Driver</th>\n",
       "      <th>Car</th>\n",
       "      <th>Time</th>\n",
       "      <th>Gap</th>\n",
       "      <th>Laps</th>\n",
       "      <th>Year</th>\n",
       "      <th>Race</th>\n",
       "      <th>Pos_practice_2</th>\n",
       "      <th>...</th>\n",
       "      <th>Laps_practice_2</th>\n",
       "      <th>Pos_practice_3</th>\n",
       "      <th>Time_practice_3</th>\n",
       "      <th>Gap_practice_3</th>\n",
       "      <th>Laps_practice_3</th>\n",
       "      <th>Pos_qual</th>\n",
       "      <th>Q1</th>\n",
       "      <th>Q2</th>\n",
       "      <th>Q3</th>\n",
       "      <th>Laps_qual</th>\n",
       "    </tr>\n",
       "  </thead>\n",
       "  <tbody>\n",
       "    <tr>\n",
       "      <th>0</th>\n",
       "      <td>1</td>\n",
       "      <td>11</td>\n",
       "      <td>Sergio Perez PER</td>\n",
       "      <td>Red Bull Racing Honda RBPT</td>\n",
       "      <td>01:32.8</td>\n",
       "      <td>+0.0s</td>\n",
       "      <td>21</td>\n",
       "      <td>2023</td>\n",
       "      <td>GULFAIRBAHRAIN</td>\n",
       "      <td>3</td>\n",
       "      <td>...</td>\n",
       "      <td>26</td>\n",
       "      <td>3</td>\n",
       "      <td>01:32.4</td>\n",
       "      <td>+0.106s</td>\n",
       "      <td>12</td>\n",
       "      <td>2</td>\n",
       "      <td>01:31.5</td>\n",
       "      <td>01:30.7</td>\n",
       "      <td>01:29.8</td>\n",
       "      <td>15</td>\n",
       "    </tr>\n",
       "    <tr>\n",
       "      <th>1</th>\n",
       "      <td>2</td>\n",
       "      <td>14</td>\n",
       "      <td>Fernando Alonso ALO</td>\n",
       "      <td>Aston Martin Aramco Mercedes</td>\n",
       "      <td>01:33.2</td>\n",
       "      <td>+0.438s</td>\n",
       "      <td>22</td>\n",
       "      <td>2023</td>\n",
       "      <td>GULFAIRBAHRAIN</td>\n",
       "      <td>1</td>\n",
       "      <td>...</td>\n",
       "      <td>25</td>\n",
       "      <td>1</td>\n",
       "      <td>01:32.3</td>\n",
       "      <td>+0.0s</td>\n",
       "      <td>13</td>\n",
       "      <td>5</td>\n",
       "      <td>01:31.2</td>\n",
       "      <td>01:30.6</td>\n",
       "      <td>01:30.3</td>\n",
       "      <td>15</td>\n",
       "    </tr>\n",
       "    <tr>\n",
       "      <th>2</th>\n",
       "      <td>3</td>\n",
       "      <td>1</td>\n",
       "      <td>Max Verstappen VER</td>\n",
       "      <td>Red Bull Racing Honda RBPT</td>\n",
       "      <td>01:33.4</td>\n",
       "      <td>+0.617s</td>\n",
       "      <td>21</td>\n",
       "      <td>2023</td>\n",
       "      <td>GULFAIRBAHRAIN</td>\n",
       "      <td>2</td>\n",
       "      <td>...</td>\n",
       "      <td>24</td>\n",
       "      <td>2</td>\n",
       "      <td>01:32.3</td>\n",
       "      <td>+0.005s</td>\n",
       "      <td>13</td>\n",
       "      <td>1</td>\n",
       "      <td>01:31.3</td>\n",
       "      <td>01:30.5</td>\n",
       "      <td>01:29.7</td>\n",
       "      <td>15</td>\n",
       "    </tr>\n",
       "    <tr>\n",
       "      <th>3</th>\n",
       "      <td>4</td>\n",
       "      <td>4</td>\n",
       "      <td>Lando Norris NOR</td>\n",
       "      <td>McLaren Mercedes</td>\n",
       "      <td>01:34.2</td>\n",
       "      <td>+1.407s</td>\n",
       "      <td>21</td>\n",
       "      <td>2023</td>\n",
       "      <td>GULFAIRBAHRAIN</td>\n",
       "      <td>9</td>\n",
       "      <td>...</td>\n",
       "      <td>27</td>\n",
       "      <td>13</td>\n",
       "      <td>01:33.2</td>\n",
       "      <td>+0.862s</td>\n",
       "      <td>16</td>\n",
       "      <td>11</td>\n",
       "      <td>01:31.7</td>\n",
       "      <td>01:31.4</td>\n",
       "      <td>NaN</td>\n",
       "      <td>13</td>\n",
       "    </tr>\n",
       "    <tr>\n",
       "      <th>4</th>\n",
       "      <td>5</td>\n",
       "      <td>16</td>\n",
       "      <td>Charles Leclerc LEC</td>\n",
       "      <td>Ferrari</td>\n",
       "      <td>01:34.3</td>\n",
       "      <td>+1.499s</td>\n",
       "      <td>17</td>\n",
       "      <td>2023</td>\n",
       "      <td>GULFAIRBAHRAIN</td>\n",
       "      <td>4</td>\n",
       "      <td>...</td>\n",
       "      <td>26</td>\n",
       "      <td>5</td>\n",
       "      <td>01:32.6</td>\n",
       "      <td>+0.284s</td>\n",
       "      <td>21</td>\n",
       "      <td>3</td>\n",
       "      <td>01:31.1</td>\n",
       "      <td>01:30.3</td>\n",
       "      <td>01:30.0</td>\n",
       "      <td>17</td>\n",
       "    </tr>\n",
       "    <tr>\n",
       "      <th>...</th>\n",
       "      <td>...</td>\n",
       "      <td>...</td>\n",
       "      <td>...</td>\n",
       "      <td>...</td>\n",
       "      <td>...</td>\n",
       "      <td>...</td>\n",
       "      <td>...</td>\n",
       "      <td>...</td>\n",
       "      <td>...</td>\n",
       "      <td>...</td>\n",
       "      <td>...</td>\n",
       "      <td>...</td>\n",
       "      <td>...</td>\n",
       "      <td>...</td>\n",
       "      <td>...</td>\n",
       "      <td>...</td>\n",
       "      <td>...</td>\n",
       "      <td>...</td>\n",
       "      <td>...</td>\n",
       "      <td>...</td>\n",
       "      <td>...</td>\n",
       "    </tr>\n",
       "    <tr>\n",
       "      <th>2849</th>\n",
       "      <td>17</td>\n",
       "      <td>20</td>\n",
       "      <td>Kevin Magnussen MAG</td>\n",
       "      <td>Renault</td>\n",
       "      <td>01:46.4</td>\n",
       "      <td>+3.503s</td>\n",
       "      <td>21</td>\n",
       "      <td>1</td>\n",
       "      <td>ETIHADAIRWAYSABUDHABI</td>\n",
       "      <td>20</td>\n",
       "      <td>...</td>\n",
       "      <td>25</td>\n",
       "      <td>16</td>\n",
       "      <td>01:43.1</td>\n",
       "      <td>+2.282s</td>\n",
       "      <td>17</td>\n",
       "      <td>18</td>\n",
       "      <td>01:42.1</td>\n",
       "      <td>NaN</td>\n",
       "      <td>NaN</td>\n",
       "      <td>6</td>\n",
       "    </tr>\n",
       "    <tr>\n",
       "      <th>2850</th>\n",
       "      <td>18</td>\n",
       "      <td>14</td>\n",
       "      <td>Fernando Alonso ALO</td>\n",
       "      <td>McLaren Honda</td>\n",
       "      <td>01:46.4</td>\n",
       "      <td>+3.510s</td>\n",
       "      <td>21</td>\n",
       "      <td>1</td>\n",
       "      <td>ETIHADAIRWAYSABUDHABI</td>\n",
       "      <td>11</td>\n",
       "      <td>...</td>\n",
       "      <td>33</td>\n",
       "      <td>11</td>\n",
       "      <td>01:42.6</td>\n",
       "      <td>+1.810s</td>\n",
       "      <td>14</td>\n",
       "      <td>9</td>\n",
       "      <td>01:41.6</td>\n",
       "      <td>01:41.0</td>\n",
       "      <td>01:41.1</td>\n",
       "      <td>17</td>\n",
       "    </tr>\n",
       "    <tr>\n",
       "      <th>2851</th>\n",
       "      <td>19</td>\n",
       "      <td>94</td>\n",
       "      <td>Pascal Wehrlein WEH</td>\n",
       "      <td>MRT Mercedes</td>\n",
       "      <td>01:46.5</td>\n",
       "      <td>+3.589s</td>\n",
       "      <td>29</td>\n",
       "      <td>1</td>\n",
       "      <td>ETIHADAIRWAYSABUDHABI</td>\n",
       "      <td>17</td>\n",
       "      <td>...</td>\n",
       "      <td>33</td>\n",
       "      <td>17</td>\n",
       "      <td>01:43.1</td>\n",
       "      <td>+2.370s</td>\n",
       "      <td>17</td>\n",
       "      <td>16</td>\n",
       "      <td>01:41.9</td>\n",
       "      <td>01:42.0</td>\n",
       "      <td>NaN</td>\n",
       "      <td>14</td>\n",
       "    </tr>\n",
       "    <tr>\n",
       "      <th>2852</th>\n",
       "      <td>20</td>\n",
       "      <td>22</td>\n",
       "      <td>Jenson Button BUT</td>\n",
       "      <td>McLaren Honda</td>\n",
       "      <td>01:47.1</td>\n",
       "      <td>+4.258s</td>\n",
       "      <td>10</td>\n",
       "      <td>1</td>\n",
       "      <td>ETIHADAIRWAYSABUDHABI</td>\n",
       "      <td>12</td>\n",
       "      <td>...</td>\n",
       "      <td>24</td>\n",
       "      <td>13</td>\n",
       "      <td>01:42.7</td>\n",
       "      <td>+1.889s</td>\n",
       "      <td>15</td>\n",
       "      <td>12</td>\n",
       "      <td>01:41.2</td>\n",
       "      <td>01:41.3</td>\n",
       "      <td>NaN</td>\n",
       "      <td>14</td>\n",
       "    </tr>\n",
       "    <tr>\n",
       "      <th>2853</th>\n",
       "      <td>22</td>\n",
       "      <td>26</td>\n",
       "      <td>Daniil Kvyat KVY</td>\n",
       "      <td>Toro Rosso Ferrari</td>\n",
       "      <td>02:02.0</td>\n",
       "      <td>+19.120s</td>\n",
       "      <td>4</td>\n",
       "      <td>1</td>\n",
       "      <td>ETIHADAIRWAYSABUDHABI</td>\n",
       "      <td>22</td>\n",
       "      <td>...</td>\n",
       "      <td>4</td>\n",
       "      <td>21</td>\n",
       "      <td>01:44.1</td>\n",
       "      <td>+3.330s</td>\n",
       "      <td>13</td>\n",
       "      <td>17</td>\n",
       "      <td>01:42.0</td>\n",
       "      <td>NaN</td>\n",
       "      <td>NaN</td>\n",
       "      <td>9</td>\n",
       "    </tr>\n",
       "  </tbody>\n",
       "</table>\n",
       "<p>2854 rows × 22 columns</p>\n",
       "</div>"
      ],
      "text/plain": [
       "      Pos  No               Driver                           Car     Time  \\\n",
       "0       1  11     Sergio Perez PER    Red Bull Racing Honda RBPT  01:32.8   \n",
       "1       2  14  Fernando Alonso ALO  Aston Martin Aramco Mercedes  01:33.2   \n",
       "2       3   1   Max Verstappen VER    Red Bull Racing Honda RBPT  01:33.4   \n",
       "3       4   4     Lando Norris NOR              McLaren Mercedes  01:34.2   \n",
       "4       5  16  Charles Leclerc LEC                       Ferrari  01:34.3   \n",
       "...   ...  ..                  ...                           ...      ...   \n",
       "2849   17  20  Kevin Magnussen MAG                       Renault  01:46.4   \n",
       "2850   18  14  Fernando Alonso ALO                 McLaren Honda  01:46.4   \n",
       "2851   19  94  Pascal Wehrlein WEH                  MRT Mercedes  01:46.5   \n",
       "2852   20  22    Jenson Button BUT                 McLaren Honda  01:47.1   \n",
       "2853   22  26     Daniil Kvyat KVY            Toro Rosso Ferrari  02:02.0   \n",
       "\n",
       "           Gap  Laps  Year                   Race  Pos_practice_2  ...  \\\n",
       "0        +0.0s    21  2023         GULFAIRBAHRAIN               3  ...   \n",
       "1      +0.438s    22  2023         GULFAIRBAHRAIN               1  ...   \n",
       "2      +0.617s    21  2023         GULFAIRBAHRAIN               2  ...   \n",
       "3      +1.407s    21  2023         GULFAIRBAHRAIN               9  ...   \n",
       "4      +1.499s    17  2023         GULFAIRBAHRAIN               4  ...   \n",
       "...        ...   ...   ...                    ...             ...  ...   \n",
       "2849   +3.503s    21     1  ETIHADAIRWAYSABUDHABI              20  ...   \n",
       "2850   +3.510s    21     1  ETIHADAIRWAYSABUDHABI              11  ...   \n",
       "2851   +3.589s    29     1  ETIHADAIRWAYSABUDHABI              17  ...   \n",
       "2852   +4.258s    10     1  ETIHADAIRWAYSABUDHABI              12  ...   \n",
       "2853  +19.120s     4     1  ETIHADAIRWAYSABUDHABI              22  ...   \n",
       "\n",
       "     Laps_practice_2 Pos_practice_3  Time_practice_3  Gap_practice_3  \\\n",
       "0                 26              3          01:32.4         +0.106s   \n",
       "1                 25              1          01:32.3           +0.0s   \n",
       "2                 24              2          01:32.3         +0.005s   \n",
       "3                 27             13          01:33.2         +0.862s   \n",
       "4                 26              5          01:32.6         +0.284s   \n",
       "...              ...            ...              ...             ...   \n",
       "2849              25             16          01:43.1         +2.282s   \n",
       "2850              33             11          01:42.6         +1.810s   \n",
       "2851              33             17          01:43.1         +2.370s   \n",
       "2852              24             13          01:42.7         +1.889s   \n",
       "2853               4             21          01:44.1         +3.330s   \n",
       "\n",
       "     Laps_practice_3 Pos_qual       Q1       Q2       Q3 Laps_qual  \n",
       "0                 12        2  01:31.5  01:30.7  01:29.8        15  \n",
       "1                 13        5  01:31.2  01:30.6  01:30.3        15  \n",
       "2                 13        1  01:31.3  01:30.5  01:29.7        15  \n",
       "3                 16       11  01:31.7  01:31.4      NaN        13  \n",
       "4                 21        3  01:31.1  01:30.3  01:30.0        17  \n",
       "...              ...      ...      ...      ...      ...       ...  \n",
       "2849              17       18  01:42.1      NaN      NaN         6  \n",
       "2850              14        9  01:41.6  01:41.0  01:41.1        17  \n",
       "2851              17       16  01:41.9  01:42.0      NaN        14  \n",
       "2852              15       12  01:41.2  01:41.3      NaN        14  \n",
       "2853              13       17  01:42.0      NaN      NaN         9  \n",
       "\n",
       "[2854 rows x 22 columns]"
      ]
     },
     "execution_count": 3,
     "metadata": {},
     "output_type": "execute_result"
    }
   ],
   "source": [
    "df"
   ]
  },
  {
   "cell_type": "code",
   "execution_count": 10,
   "id": "1b6282f2",
   "metadata": {},
   "outputs": [
    {
     "data": {
      "text/plain": [
       "<seaborn.axisgrid.PairGrid at 0x2c86d521210>"
      ]
     },
     "execution_count": 10,
     "metadata": {},
     "output_type": "execute_result"
    },
    {
     "data": {
      "image/png": "[encoded data removed]",
      "text/plain": [
       "<Figure size 2250x250 with 9 Axes>"
      ]
     },
     "metadata": {},
     "output_type": "display_data"
    }
   ],
   "source": [
    "sns.pairplot(df, y_vars=[\"Pos_qual\"])"
   ]
  },
  {
   "cell_type": "markdown",
   "id": "cb7019dc",
   "metadata": {},
   "source": [
    "Maybe we need to convert the times to datetimes?"
   ]
  },
  {
   "cell_type": "code",
   "execution_count": 12,
   "id": "014ff789",
   "metadata": {},
   "outputs": [
    {
     "name": "stderr",
     "output_type": "stream",
     "text": [
      "C:\\Users\\Xaalt\\AppData\\Local\\Temp\\ipykernel_4132\\2232858002.py:1: UserWarning: Could not infer format, so each element will be parsed individually, falling back to `dateutil`. To ensure parsing is consistent and as-expected, please specify a format.\n",
      "  pd.to_datetime(df[\"Q3\"])\n"
     ]
    },
    {
     "ename": "DateParseError",
     "evalue": "Unknown datetime string format, unable to parse: DNF, at position 7",
     "output_type": "error",
     "traceback": [
      "\u001b[1;31m---------------------------------------------------------------------------\u001b[0m",
      "\u001b[1;31mDateParseError\u001b[0m                            Traceback (most recent call last)",
      "Cell \u001b[1;32mIn[12], line 1\u001b[0m\n\u001b[1;32m----> 1\u001b[0m pd\u001b[38;5;241m.\u001b[39mto_datetime(df[\u001b[38;5;124m\"\u001b[39m\u001b[38;5;124mQ3\u001b[39m\u001b[38;5;124m\"\u001b[39m])\n",
      "File \u001b[1;32m~\\anaconda3\\Lib\\site-packages\\pandas\\core\\tools\\datetimes.py:1108\u001b[0m, in \u001b[0;36mto_datetime\u001b[1;34m(arg, errors, dayfirst, yearfirst, utc, format, exact, unit, infer_datetime_format, origin, cache)\u001b[0m\n\u001b[0;32m   1106\u001b[0m             result \u001b[38;5;241m=\u001b[39m arg\u001b[38;5;241m.\u001b[39mtz_localize(\u001b[38;5;124m\"\u001b[39m\u001b[38;5;124mutc\u001b[39m\u001b[38;5;124m\"\u001b[39m)\n\u001b[0;32m   1107\u001b[0m \u001b[38;5;28;01melif\u001b[39;00m \u001b[38;5;28misinstance\u001b[39m(arg, ABCSeries):\n\u001b[1;32m-> 1108\u001b[0m     cache_array \u001b[38;5;241m=\u001b[39m _maybe_cache(arg, \u001b[38;5;28mformat\u001b[39m, cache, convert_listlike)\n\u001b[0;32m   1109\u001b[0m     \u001b[38;5;28;01mif\u001b[39;00m \u001b[38;5;129;01mnot\u001b[39;00m cache_array\u001b[38;5;241m.\u001b[39mempty:\n\u001b[0;32m   1110\u001b[0m         result \u001b[38;5;241m=\u001b[39m arg\u001b[38;5;241m.\u001b[39mmap(cache_array)\n",
      "File \u001b[1;32m~\\anaconda3\\Lib\\site-packages\\pandas\\core\\tools\\datetimes.py:254\u001b[0m, in \u001b[0;36m_maybe_cache\u001b[1;34m(arg, format, cache, convert_listlike)\u001b[0m\n\u001b[0;32m    252\u001b[0m unique_dates \u001b[38;5;241m=\u001b[39m unique(arg)\n\u001b[0;32m    253\u001b[0m \u001b[38;5;28;01mif\u001b[39;00m \u001b[38;5;28mlen\u001b[39m(unique_dates) \u001b[38;5;241m<\u001b[39m \u001b[38;5;28mlen\u001b[39m(arg):\n\u001b[1;32m--> 254\u001b[0m     cache_dates \u001b[38;5;241m=\u001b[39m convert_listlike(unique_dates, \u001b[38;5;28mformat\u001b[39m)\n\u001b[0;32m    255\u001b[0m     \u001b[38;5;66;03m# GH#45319\u001b[39;00m\n\u001b[0;32m    256\u001b[0m     \u001b[38;5;28;01mtry\u001b[39;00m:\n",
      "File \u001b[1;32m~\\anaconda3\\Lib\\site-packages\\pandas\\core\\tools\\datetimes.py:490\u001b[0m, in \u001b[0;36m_convert_listlike_datetimes\u001b[1;34m(arg, format, name, utc, unit, errors, dayfirst, yearfirst, exact)\u001b[0m\n\u001b[0;32m    487\u001b[0m \u001b[38;5;28;01mif\u001b[39;00m \u001b[38;5;28mformat\u001b[39m \u001b[38;5;129;01mis\u001b[39;00m \u001b[38;5;129;01mnot\u001b[39;00m \u001b[38;5;28;01mNone\u001b[39;00m \u001b[38;5;129;01mand\u001b[39;00m \u001b[38;5;28mformat\u001b[39m \u001b[38;5;241m!=\u001b[39m \u001b[38;5;124m\"\u001b[39m\u001b[38;5;124mmixed\u001b[39m\u001b[38;5;124m\"\u001b[39m:\n\u001b[0;32m    488\u001b[0m     \u001b[38;5;28;01mreturn\u001b[39;00m _array_strptime_with_fallback(arg, name, utc, \u001b[38;5;28mformat\u001b[39m, exact, errors)\n\u001b[1;32m--> 490\u001b[0m result, tz_parsed \u001b[38;5;241m=\u001b[39m objects_to_datetime64ns(\n\u001b[0;32m    491\u001b[0m     arg,\n\u001b[0;32m    492\u001b[0m     dayfirst\u001b[38;5;241m=\u001b[39mdayfirst,\n\u001b[0;32m    493\u001b[0m     yearfirst\u001b[38;5;241m=\u001b[39myearfirst,\n\u001b[0;32m    494\u001b[0m     utc\u001b[38;5;241m=\u001b[39mutc,\n\u001b[0;32m    495\u001b[0m     errors\u001b[38;5;241m=\u001b[39merrors,\n\u001b[0;32m    496\u001b[0m     allow_object\u001b[38;5;241m=\u001b[39m\u001b[38;5;28;01mTrue\u001b[39;00m,\n\u001b[0;32m    497\u001b[0m )\n\u001b[0;32m    499\u001b[0m \u001b[38;5;28;01mif\u001b[39;00m tz_parsed \u001b[38;5;129;01mis\u001b[39;00m \u001b[38;5;129;01mnot\u001b[39;00m \u001b[38;5;28;01mNone\u001b[39;00m:\n\u001b[0;32m    500\u001b[0m     \u001b[38;5;66;03m# We can take a shortcut since the datetime64 numpy array\u001b[39;00m\n\u001b[0;32m    501\u001b[0m     \u001b[38;5;66;03m# is in UTC\u001b[39;00m\n\u001b[0;32m    502\u001b[0m     dta \u001b[38;5;241m=\u001b[39m DatetimeArray(result, dtype\u001b[38;5;241m=\u001b[39mtz_to_dtype(tz_parsed))\n",
      "File \u001b[1;32m~\\anaconda3\\Lib\\site-packages\\pandas\\core\\arrays\\datetimes.py:2346\u001b[0m, in \u001b[0;36mobjects_to_datetime64ns\u001b[1;34m(data, dayfirst, yearfirst, utc, errors, allow_object)\u001b[0m\n\u001b[0;32m   2343\u001b[0m \u001b[38;5;66;03m# if str-dtype, convert\u001b[39;00m\n\u001b[0;32m   2344\u001b[0m data \u001b[38;5;241m=\u001b[39m np\u001b[38;5;241m.\u001b[39marray(data, copy\u001b[38;5;241m=\u001b[39m\u001b[38;5;28;01mFalse\u001b[39;00m, dtype\u001b[38;5;241m=\u001b[39mnp\u001b[38;5;241m.\u001b[39mobject_)\n\u001b[1;32m-> 2346\u001b[0m result, tz_parsed \u001b[38;5;241m=\u001b[39m tslib\u001b[38;5;241m.\u001b[39marray_to_datetime(\n\u001b[0;32m   2347\u001b[0m     data,\n\u001b[0;32m   2348\u001b[0m     errors\u001b[38;5;241m=\u001b[39merrors,\n\u001b[0;32m   2349\u001b[0m     utc\u001b[38;5;241m=\u001b[39mutc,\n\u001b[0;32m   2350\u001b[0m     dayfirst\u001b[38;5;241m=\u001b[39mdayfirst,\n\u001b[0;32m   2351\u001b[0m     yearfirst\u001b[38;5;241m=\u001b[39myearfirst,\n\u001b[0;32m   2352\u001b[0m )\n\u001b[0;32m   2354\u001b[0m \u001b[38;5;28;01mif\u001b[39;00m tz_parsed \u001b[38;5;129;01mis\u001b[39;00m \u001b[38;5;129;01mnot\u001b[39;00m \u001b[38;5;28;01mNone\u001b[39;00m:\n\u001b[0;32m   2355\u001b[0m     \u001b[38;5;66;03m# We can take a shortcut since the datetime64 numpy array\u001b[39;00m\n\u001b[0;32m   2356\u001b[0m     \u001b[38;5;66;03m#  is in UTC\u001b[39;00m\n\u001b[0;32m   2357\u001b[0m     \u001b[38;5;66;03m# Return i8 values to denote unix timestamps\u001b[39;00m\n\u001b[0;32m   2358\u001b[0m     \u001b[38;5;28;01mreturn\u001b[39;00m result\u001b[38;5;241m.\u001b[39mview(\u001b[38;5;124m\"\u001b[39m\u001b[38;5;124mi8\u001b[39m\u001b[38;5;124m\"\u001b[39m), tz_parsed\n",
      "File \u001b[1;32mtslib.pyx:403\u001b[0m, in \u001b[0;36mpandas._libs.tslib.array_to_datetime\u001b[1;34m()\u001b[0m\n",
      "File \u001b[1;32mtslib.pyx:552\u001b[0m, in \u001b[0;36mpandas._libs.tslib.array_to_datetime\u001b[1;34m()\u001b[0m\n",
      "File \u001b[1;32mtslib.pyx:517\u001b[0m, in \u001b[0;36mpandas._libs.tslib.array_to_datetime\u001b[1;34m()\u001b[0m\n",
      "File \u001b[1;32mconversion.pyx:546\u001b[0m, in \u001b[0;36mpandas._libs.tslibs.conversion.convert_str_to_tsobject\u001b[1;34m()\u001b[0m\n",
      "File \u001b[1;32mparsing.pyx:331\u001b[0m, in \u001b[0;36mpandas._libs.tslibs.parsing.parse_datetime_string\u001b[1;34m()\u001b[0m\n",
      "File \u001b[1;32mparsing.pyx:660\u001b[0m, in \u001b[0;36mpandas._libs.tslibs.parsing.dateutil_parse\u001b[1;34m()\u001b[0m\n",
      "\u001b[1;31mDateParseError\u001b[0m: Unknown datetime string format, unable to parse: DNF, at position 7"
     ]
    }
   ],
   "source": [
    "pd.to_datetime(df[\"Q3\"])"
   ]
  },
  {
   "cell_type": "code",
   "execution_count": 13,
   "id": "686aa35b",
   "metadata": {},
   "outputs": [
    {
     "data": {
      "text/plain": [
       "'01:29.8'"
      ]
     },
     "execution_count": 13,
     "metadata": {},
     "output_type": "execute_result"
    }
   ],
   "source": [
    "df[\"Q3\"][0]"
   ]
  },
  {
   "cell_type": "code",
   "execution_count": 45,
   "id": "338ca799",
   "metadata": {},
   "outputs": [
    {
     "ename": "ValueError",
     "evalue": "time data '+0' does not match format '%M:%S'",
     "output_type": "error",
     "traceback": [
      "\u001b[1;31m---------------------------------------------------------------------------\u001b[0m",
      "\u001b[1;31mValueError\u001b[0m                                Traceback (most recent call last)",
      "Cell \u001b[1;32mIn[45], line 1\u001b[0m\n\u001b[1;32m----> 1\u001b[0m timing\u001b[38;5;241m=\u001b[39m time\u001b[38;5;241m.\u001b[39mstrptime(df[\u001b[38;5;124m\"\u001b[39m\u001b[38;5;124mGap\u001b[39m\u001b[38;5;124m\"\u001b[39m][\u001b[38;5;241m0\u001b[39m]\u001b[38;5;241m.\u001b[39msplit(\u001b[38;5;124m'\u001b[39m\u001b[38;5;124m.\u001b[39m\u001b[38;5;124m'\u001b[39m)[\u001b[38;5;241m0\u001b[39m], \u001b[38;5;124m'\u001b[39m\u001b[38;5;124m%\u001b[39m\u001b[38;5;124mM:\u001b[39m\u001b[38;5;124m%\u001b[39m\u001b[38;5;124mS\u001b[39m\u001b[38;5;124m'\u001b[39m)\n",
      "File \u001b[1;32m~\\anaconda3\\Lib\\_strptime.py:562\u001b[0m, in \u001b[0;36m_strptime_time\u001b[1;34m(data_string, format)\u001b[0m\n\u001b[0;32m    559\u001b[0m \u001b[38;5;28;01mdef\u001b[39;00m \u001b[38;5;21m_strptime_time\u001b[39m(data_string, \u001b[38;5;28mformat\u001b[39m\u001b[38;5;241m=\u001b[39m\u001b[38;5;124m\"\u001b[39m\u001b[38;5;132;01m%a\u001b[39;00m\u001b[38;5;124m \u001b[39m\u001b[38;5;124m%\u001b[39m\u001b[38;5;124mb \u001b[39m\u001b[38;5;132;01m%d\u001b[39;00m\u001b[38;5;124m \u001b[39m\u001b[38;5;124m%\u001b[39m\u001b[38;5;124mH:\u001b[39m\u001b[38;5;124m%\u001b[39m\u001b[38;5;124mM:\u001b[39m\u001b[38;5;124m%\u001b[39m\u001b[38;5;124mS \u001b[39m\u001b[38;5;124m%\u001b[39m\u001b[38;5;124mY\u001b[39m\u001b[38;5;124m\"\u001b[39m):\n\u001b[0;32m    560\u001b[0m \u001b[38;5;250m    \u001b[39m\u001b[38;5;124;03m\"\"\"Return a time struct based on the input string and the\u001b[39;00m\n\u001b[0;32m    561\u001b[0m \u001b[38;5;124;03m    format string.\"\"\"\u001b[39;00m\n\u001b[1;32m--> 562\u001b[0m     tt \u001b[38;5;241m=\u001b[39m _strptime(data_string, \u001b[38;5;28mformat\u001b[39m)[\u001b[38;5;241m0\u001b[39m]\n\u001b[0;32m    563\u001b[0m     \u001b[38;5;28;01mreturn\u001b[39;00m time\u001b[38;5;241m.\u001b[39mstruct_time(tt[:time\u001b[38;5;241m.\u001b[39m_STRUCT_TM_ITEMS])\n",
      "File \u001b[1;32m~\\anaconda3\\Lib\\_strptime.py:349\u001b[0m, in \u001b[0;36m_strptime\u001b[1;34m(data_string, format)\u001b[0m\n\u001b[0;32m    347\u001b[0m found \u001b[38;5;241m=\u001b[39m format_regex\u001b[38;5;241m.\u001b[39mmatch(data_string)\n\u001b[0;32m    348\u001b[0m \u001b[38;5;28;01mif\u001b[39;00m \u001b[38;5;129;01mnot\u001b[39;00m found:\n\u001b[1;32m--> 349\u001b[0m     \u001b[38;5;28;01mraise\u001b[39;00m \u001b[38;5;167;01mValueError\u001b[39;00m(\u001b[38;5;124m\"\u001b[39m\u001b[38;5;124mtime data \u001b[39m\u001b[38;5;132;01m%r\u001b[39;00m\u001b[38;5;124m does not match format \u001b[39m\u001b[38;5;132;01m%r\u001b[39;00m\u001b[38;5;124m\"\u001b[39m \u001b[38;5;241m%\u001b[39m\n\u001b[0;32m    350\u001b[0m                      (data_string, \u001b[38;5;28mformat\u001b[39m))\n\u001b[0;32m    351\u001b[0m \u001b[38;5;28;01mif\u001b[39;00m \u001b[38;5;28mlen\u001b[39m(data_string) \u001b[38;5;241m!=\u001b[39m found\u001b[38;5;241m.\u001b[39mend():\n\u001b[0;32m    352\u001b[0m     \u001b[38;5;28;01mraise\u001b[39;00m \u001b[38;5;167;01mValueError\u001b[39;00m(\u001b[38;5;124m\"\u001b[39m\u001b[38;5;124munconverted data remains: \u001b[39m\u001b[38;5;132;01m%s\u001b[39;00m\u001b[38;5;124m\"\u001b[39m \u001b[38;5;241m%\u001b[39m\n\u001b[0;32m    353\u001b[0m                       data_string[found\u001b[38;5;241m.\u001b[39mend():])\n",
      "\u001b[1;31mValueError\u001b[0m: time data '+0' does not match format '%M:%S'"
     ]
    }
   ],
   "source": [
    "timing= time.strptime(df[\"Gap\"][0].split('.')[0], '%M:%S')"
   ]
  },
  {
   "cell_type": "code",
   "execution_count": null,
   "id": "ef61eef7",
   "metadata": {},
   "outputs": [],
   "source": []
  },
  {
   "cell_type": "code",
   "execution_count": 41,
   "id": "93a44766",
   "metadata": {},
   "outputs": [],
   "source": [
    "x = datetime.timedelta(minutes=timing.tm_min, seconds=timing.tm_sec)"
   ]
  },
  {
   "cell_type": "code",
   "execution_count": 42,
   "id": "4cb15102",
   "metadata": {},
   "outputs": [],
   "source": [
    "reallap= x.seconds+ float(df[\"Q3\"][0].split('.')[1])/10"
   ]
  },
  {
   "cell_type": "code",
   "execution_count": 43,
   "id": "5f02c8cc",
   "metadata": {},
   "outputs": [
    {
     "data": {
      "text/plain": [
       "89.8"
      ]
     },
     "execution_count": 43,
     "metadata": {},
     "output_type": "execute_result"
    }
   ],
   "source": [
    "reallap"
   ]
  },
  {
   "cell_type": "code",
   "execution_count": 44,
   "id": "7d14583d",
   "metadata": {},
   "outputs": [
    {
     "data": {
      "text/plain": [
       "Index(['Pos', 'No', 'Driver', 'Car', 'Time', 'Gap', 'Laps', 'Year', 'Race',\n",
       "       'Pos_practice_2', 'Time_practice_2', 'Gap_practice_2',\n",
       "       'Laps_practice_2', 'Pos_practice_3', 'Time_practice_3',\n",
       "       'Gap_practice_3', 'Laps_practice_3', 'Pos_qual', 'Q1', 'Q2', 'Q3',\n",
       "       'Laps_qual'],\n",
       "      dtype='object')"
      ]
     },
     "execution_count": 44,
     "metadata": {},
     "output_type": "execute_result"
    }
   ],
   "source": [
    "df.columns"
   ]
  },
  {
   "cell_type": "code",
   "execution_count": null,
   "id": "47386a09",
   "metadata": {},
   "outputs": [],
   "source": [
    "times = ['Time', 'Time_practice_2', 'Time_practice_3', 'Q1', 'Q2', 'Q3']"
   ]
  },
  {
   "cell_type": "code",
   "execution_count": 62,
   "id": "920c9e51",
   "metadata": {},
   "outputs": [
    {
     "data": {
      "text/plain": [
       "0          +0.0s\n",
       "1        +0.438s\n",
       "2        +0.617s\n",
       "3        +1.407s\n",
       "4        +1.499s\n",
       "          ...   \n",
       "2849     +3.503s\n",
       "2850     +3.510s\n",
       "2851     +3.589s\n",
       "2852     +4.258s\n",
       "2853    +19.120s\n",
       "Name: Gap, Length: 2854, dtype: object"
      ]
     },
     "execution_count": 62,
     "metadata": {},
     "output_type": "execute_result"
    }
   ],
   "source": [
    "df[\"Gap\"]"
   ]
  },
  {
   "cell_type": "code",
   "execution_count": 67,
   "id": "f27e7af8",
   "metadata": {},
   "outputs": [
    {
     "name": "stdout",
     "output_type": "stream",
     "text": [
      "0\n",
      "1\n",
      "2\n",
      "3\n",
      "4\n",
      "5\n",
      "6\n",
      "7\n",
      "8\n",
      "9\n",
      "10\n",
      "11\n",
      "12\n",
      "13\n",
      "14\n",
      "15\n",
      "16\n",
      "17\n",
      "18\n",
      "19\n",
      "20\n",
      "21\n",
      "22\n",
      "23\n",
      "24\n",
      "25\n",
      "26\n",
      "27\n",
      "28\n",
      "29\n",
      "30\n",
      "31\n",
      "32\n",
      "33\n",
      "34\n",
      "35\n",
      "36\n",
      "37\n",
      "38\n",
      "39\n",
      "40\n",
      "41\n",
      "42\n",
      "43\n",
      "44\n",
      "45\n",
      "46\n",
      "47\n",
      "48\n",
      "49\n",
      "50\n",
      "51\n",
      "52\n",
      "53\n",
      "54\n",
      "55\n",
      "56\n",
      "57\n",
      "58\n",
      "59\n",
      "60\n",
      "61\n",
      "62\n",
      "63\n",
      "64\n",
      "65\n",
      "66\n",
      "67\n",
      "68\n",
      "69\n",
      "70\n",
      "71\n",
      "72\n",
      "73\n",
      "74\n",
      "75\n",
      "76\n",
      "77\n",
      "78\n",
      "79\n",
      "80\n",
      "81\n",
      "82\n",
      "83\n",
      "84\n",
      "85\n",
      "86\n",
      "87\n",
      "88\n",
      "89\n",
      "90\n",
      "91\n",
      "92\n",
      "93\n",
      "94\n",
      "95\n",
      "96\n",
      "97\n",
      "98\n",
      "99\n",
      "100\n",
      "101\n",
      "102\n",
      "103\n",
      "104\n",
      "105\n",
      "106\n",
      "107\n",
      "108\n",
      "109\n",
      "110\n",
      "111\n",
      "112\n",
      "113\n",
      "114\n",
      "115\n",
      "116\n",
      "117\n",
      "118\n",
      "119\n",
      "120\n",
      "121\n",
      "122\n",
      "123\n",
      "124\n",
      "125\n",
      "126\n",
      "127\n",
      "128\n",
      "129\n"
     ]
    },
    {
     "ename": "TypeError",
     "evalue": "expected string or bytes-like object, got 'float'",
     "output_type": "error",
     "traceback": [
      "\u001b[1;31m---------------------------------------------------------------------------\u001b[0m",
      "\u001b[1;31mTypeError\u001b[0m                                 Traceback (most recent call last)",
      "Cell \u001b[1;32mIn[67], line 5\u001b[0m\n\u001b[0;32m      2\u001b[0m i\u001b[38;5;241m=\u001b[39m\u001b[38;5;241m0\u001b[39m\n\u001b[0;32m      3\u001b[0m \u001b[38;5;28;01mfor\u001b[39;00m t \u001b[38;5;129;01min\u001b[39;00m df[\u001b[38;5;124m\"\u001b[39m\u001b[38;5;124mGap\u001b[39m\u001b[38;5;124m\"\u001b[39m]:\n\u001b[1;32m----> 5\u001b[0m     y\u001b[38;5;241m.\u001b[39mappend(\u001b[38;5;28mfloat\u001b[39m(re\u001b[38;5;241m.\u001b[39mfindall(\u001b[38;5;124m'\u001b[39m\u001b[38;5;124m\\\u001b[39m\u001b[38;5;124md+\u001b[39m\u001b[38;5;124m\\\u001b[39m\u001b[38;5;124m.\u001b[39m\u001b[38;5;124m\\\u001b[39m\u001b[38;5;124md+\u001b[39m\u001b[38;5;124m'\u001b[39m, t)[\u001b[38;5;241m0\u001b[39m]))\n\u001b[0;32m      6\u001b[0m     \u001b[38;5;28mprint\u001b[39m(i)\n\u001b[0;32m      7\u001b[0m     i\u001b[38;5;241m=\u001b[39mi\u001b[38;5;241m+\u001b[39m\u001b[38;5;241m1\u001b[39m\n",
      "File \u001b[1;32m~\\anaconda3\\Lib\\re\\__init__.py:216\u001b[0m, in \u001b[0;36mfindall\u001b[1;34m(pattern, string, flags)\u001b[0m\n\u001b[0;32m    208\u001b[0m \u001b[38;5;28;01mdef\u001b[39;00m \u001b[38;5;21mfindall\u001b[39m(pattern, string, flags\u001b[38;5;241m=\u001b[39m\u001b[38;5;241m0\u001b[39m):\n\u001b[0;32m    209\u001b[0m \u001b[38;5;250m    \u001b[39m\u001b[38;5;124;03m\"\"\"Return a list of all non-overlapping matches in the string.\u001b[39;00m\n\u001b[0;32m    210\u001b[0m \n\u001b[0;32m    211\u001b[0m \u001b[38;5;124;03m    If one or more capturing groups are present in the pattern, return\u001b[39;00m\n\u001b[1;32m   (...)\u001b[0m\n\u001b[0;32m    214\u001b[0m \n\u001b[0;32m    215\u001b[0m \u001b[38;5;124;03m    Empty matches are included in the result.\"\"\"\u001b[39;00m\n\u001b[1;32m--> 216\u001b[0m     \u001b[38;5;28;01mreturn\u001b[39;00m _compile(pattern, flags)\u001b[38;5;241m.\u001b[39mfindall(string)\n",
      "\u001b[1;31mTypeError\u001b[0m: expected string or bytes-like object, got 'float'"
     ]
    }
   ],
   "source": [
    "y=[]\n",
    "i=0\n",
    "for t in df[\"Gap\"]:\n",
    "        \n",
    "    y.append(float(re.findall('\\d+\\.\\d+', t)[0]))\n",
    "    print(i)\n",
    "    i=i+1"
   ]
  },
  {
   "cell_type": "code",
   "execution_count": 59,
   "id": "8fb092bf",
   "metadata": {},
   "outputs": [
    {
     "data": {
      "text/plain": [
       "True"
      ]
     },
     "execution_count": 59,
     "metadata": {},
     "output_type": "execute_result"
    }
   ],
   "source": [
    "df[\"Gap\"].isnull().values.any()"
   ]
  },
  {
   "cell_type": "code",
   "execution_count": 73,
   "id": "549dcf26",
   "metadata": {},
   "outputs": [
    {
     "data": {
      "text/plain": [
       "True"
      ]
     },
     "execution_count": 73,
     "metadata": {},
     "output_type": "execute_result"
    }
   ],
   "source": [
    "pd.isnull(df[\"Gap\"][130])"
   ]
  },
  {
   "cell_type": "code",
   "execution_count": 48,
   "id": "fe69b5db",
   "metadata": {},
   "outputs": [
    {
     "data": {
      "text/plain": [
       "'+0.0s'"
      ]
     },
     "execution_count": 48,
     "metadata": {},
     "output_type": "execute_result"
    }
   ],
   "source": [
    "df[\"Gap\"][0]"
   ]
  },
  {
   "cell_type": "code",
   "execution_count": 60,
   "id": "9c1c355b",
   "metadata": {},
   "outputs": [
    {
     "ename": "TypeError",
     "evalue": "expected string or bytes-like object, got 'Series'",
     "output_type": "error",
     "traceback": [
      "\u001b[1;31m---------------------------------------------------------------------------\u001b[0m",
      "\u001b[1;31mTypeError\u001b[0m                                 Traceback (most recent call last)",
      "Cell \u001b[1;32mIn[60], line 1\u001b[0m\n\u001b[1;32m----> 1\u001b[0m \u001b[38;5;28mfloat\u001b[39m(re\u001b[38;5;241m.\u001b[39mfindall(\u001b[38;5;124m'\u001b[39m\u001b[38;5;124m\\\u001b[39m\u001b[38;5;124md+\u001b[39m\u001b[38;5;124m\\\u001b[39m\u001b[38;5;124m.\u001b[39m\u001b[38;5;124m\\\u001b[39m\u001b[38;5;124md+\u001b[39m\u001b[38;5;124m'\u001b[39m, df[\u001b[38;5;124m\"\u001b[39m\u001b[38;5;124mGap\u001b[39m\u001b[38;5;124m\"\u001b[39m])[\u001b[38;5;241m0\u001b[39m])\n",
      "File \u001b[1;32m~\\anaconda3\\Lib\\re\\__init__.py:216\u001b[0m, in \u001b[0;36mfindall\u001b[1;34m(pattern, string, flags)\u001b[0m\n\u001b[0;32m    208\u001b[0m \u001b[38;5;28;01mdef\u001b[39;00m \u001b[38;5;21mfindall\u001b[39m(pattern, string, flags\u001b[38;5;241m=\u001b[39m\u001b[38;5;241m0\u001b[39m):\n\u001b[0;32m    209\u001b[0m \u001b[38;5;250m    \u001b[39m\u001b[38;5;124;03m\"\"\"Return a list of all non-overlapping matches in the string.\u001b[39;00m\n\u001b[0;32m    210\u001b[0m \n\u001b[0;32m    211\u001b[0m \u001b[38;5;124;03m    If one or more capturing groups are present in the pattern, return\u001b[39;00m\n\u001b[1;32m   (...)\u001b[0m\n\u001b[0;32m    214\u001b[0m \n\u001b[0;32m    215\u001b[0m \u001b[38;5;124;03m    Empty matches are included in the result.\"\"\"\u001b[39;00m\n\u001b[1;32m--> 216\u001b[0m     \u001b[38;5;28;01mreturn\u001b[39;00m _compile(pattern, flags)\u001b[38;5;241m.\u001b[39mfindall(string)\n",
      "\u001b[1;31mTypeError\u001b[0m: expected string or bytes-like object, got 'Series'"
     ]
    }
   ],
   "source": [
    "float(re.findall('\\d+\\.\\d+', df[\"Gap\"])[0])"
   ]
  },
  {
   "cell_type": "code",
   "execution_count": 128,
   "id": "974efbeb",
   "metadata": {},
   "outputs": [],
   "source": [
    "df2 =df.dropna()\n",
    "df2 = df2.reset_index()"
   ]
  },
  {
   "cell_type": "code",
   "execution_count": 129,
   "id": "3d083dd3",
   "metadata": {},
   "outputs": [
    {
     "data": {
      "text/html": [
       "<div>\n",
       "<style scoped>\n",
       "    .dataframe tbody tr th:only-of-type {\n",
       "        vertical-align: middle;\n",
       "    }\n",
       "\n",
       "    .dataframe tbody tr th {\n",
       "        vertical-align: top;\n",
       "    }\n",
       "\n",
       "    .dataframe thead th {\n",
       "        text-align: right;\n",
       "    }\n",
       "</style>\n",
       "<table border=\"1\" class=\"dataframe\">\n",
       "  <thead>\n",
       "    <tr style=\"text-align: right;\">\n",
       "      <th></th>\n",
       "      <th>Pos</th>\n",
       "      <th>No</th>\n",
       "      <th>Driver</th>\n",
       "      <th>Car</th>\n",
       "      <th>Time</th>\n",
       "      <th>Gap</th>\n",
       "      <th>Laps</th>\n",
       "      <th>Year</th>\n",
       "      <th>Race</th>\n",
       "      <th>Pos_practice_2</th>\n",
       "      <th>...</th>\n",
       "      <th>Laps_practice_2</th>\n",
       "      <th>Pos_practice_3</th>\n",
       "      <th>Time_practice_3</th>\n",
       "      <th>Gap_practice_3</th>\n",
       "      <th>Laps_practice_3</th>\n",
       "      <th>Pos_qual</th>\n",
       "      <th>Q1</th>\n",
       "      <th>Q2</th>\n",
       "      <th>Q3</th>\n",
       "      <th>Laps_qual</th>\n",
       "    </tr>\n",
       "  </thead>\n",
       "  <tbody>\n",
       "    <tr>\n",
       "      <th>0</th>\n",
       "      <td>1</td>\n",
       "      <td>11</td>\n",
       "      <td>Sergio Perez PER</td>\n",
       "      <td>Red Bull Racing Honda RBPT</td>\n",
       "      <td>01:32.8</td>\n",
       "      <td>+0.0s</td>\n",
       "      <td>21</td>\n",
       "      <td>2023</td>\n",
       "      <td>GULFAIRBAHRAIN</td>\n",
       "      <td>3</td>\n",
       "      <td>...</td>\n",
       "      <td>26</td>\n",
       "      <td>3</td>\n",
       "      <td>01:32.4</td>\n",
       "      <td>+0.106s</td>\n",
       "      <td>12</td>\n",
       "      <td>2</td>\n",
       "      <td>01:31.5</td>\n",
       "      <td>01:30.7</td>\n",
       "      <td>01:29.8</td>\n",
       "      <td>15</td>\n",
       "    </tr>\n",
       "    <tr>\n",
       "      <th>1</th>\n",
       "      <td>2</td>\n",
       "      <td>14</td>\n",
       "      <td>Fernando Alonso ALO</td>\n",
       "      <td>Aston Martin Aramco Mercedes</td>\n",
       "      <td>01:33.2</td>\n",
       "      <td>+0.438s</td>\n",
       "      <td>22</td>\n",
       "      <td>2023</td>\n",
       "      <td>GULFAIRBAHRAIN</td>\n",
       "      <td>1</td>\n",
       "      <td>...</td>\n",
       "      <td>25</td>\n",
       "      <td>1</td>\n",
       "      <td>01:32.3</td>\n",
       "      <td>+0.0s</td>\n",
       "      <td>13</td>\n",
       "      <td>5</td>\n",
       "      <td>01:31.2</td>\n",
       "      <td>01:30.6</td>\n",
       "      <td>01:30.3</td>\n",
       "      <td>15</td>\n",
       "    </tr>\n",
       "    <tr>\n",
       "      <th>2</th>\n",
       "      <td>3</td>\n",
       "      <td>1</td>\n",
       "      <td>Max Verstappen VER</td>\n",
       "      <td>Red Bull Racing Honda RBPT</td>\n",
       "      <td>01:33.4</td>\n",
       "      <td>+0.617s</td>\n",
       "      <td>21</td>\n",
       "      <td>2023</td>\n",
       "      <td>GULFAIRBAHRAIN</td>\n",
       "      <td>2</td>\n",
       "      <td>...</td>\n",
       "      <td>24</td>\n",
       "      <td>2</td>\n",
       "      <td>01:32.3</td>\n",
       "      <td>+0.005s</td>\n",
       "      <td>13</td>\n",
       "      <td>1</td>\n",
       "      <td>01:31.3</td>\n",
       "      <td>01:30.5</td>\n",
       "      <td>01:29.7</td>\n",
       "      <td>15</td>\n",
       "    </tr>\n",
       "    <tr>\n",
       "      <th>4</th>\n",
       "      <td>5</td>\n",
       "      <td>16</td>\n",
       "      <td>Charles Leclerc LEC</td>\n",
       "      <td>Ferrari</td>\n",
       "      <td>01:34.3</td>\n",
       "      <td>+1.499s</td>\n",
       "      <td>17</td>\n",
       "      <td>2023</td>\n",
       "      <td>GULFAIRBAHRAIN</td>\n",
       "      <td>4</td>\n",
       "      <td>...</td>\n",
       "      <td>26</td>\n",
       "      <td>5</td>\n",
       "      <td>01:32.6</td>\n",
       "      <td>+0.284s</td>\n",
       "      <td>21</td>\n",
       "      <td>3</td>\n",
       "      <td>01:31.1</td>\n",
       "      <td>01:30.3</td>\n",
       "      <td>01:30.0</td>\n",
       "      <td>17</td>\n",
       "    </tr>\n",
       "    <tr>\n",
       "      <th>5</th>\n",
       "      <td>6</td>\n",
       "      <td>18</td>\n",
       "      <td>Lance Stroll STR</td>\n",
       "      <td>Aston Martin Aramco Mercedes</td>\n",
       "      <td>01:34.3</td>\n",
       "      <td>+1.540s</td>\n",
       "      <td>17</td>\n",
       "      <td>2023</td>\n",
       "      <td>GULFAIRBAHRAIN</td>\n",
       "      <td>6</td>\n",
       "      <td>...</td>\n",
       "      <td>28</td>\n",
       "      <td>7</td>\n",
       "      <td>01:32.9</td>\n",
       "      <td>+0.579s</td>\n",
       "      <td>16</td>\n",
       "      <td>8</td>\n",
       "      <td>01:31.2</td>\n",
       "      <td>01:31.1</td>\n",
       "      <td>01:30.8</td>\n",
       "      <td>18</td>\n",
       "    </tr>\n",
       "    <tr>\n",
       "      <th>...</th>\n",
       "      <td>...</td>\n",
       "      <td>...</td>\n",
       "      <td>...</td>\n",
       "      <td>...</td>\n",
       "      <td>...</td>\n",
       "      <td>...</td>\n",
       "      <td>...</td>\n",
       "      <td>...</td>\n",
       "      <td>...</td>\n",
       "      <td>...</td>\n",
       "      <td>...</td>\n",
       "      <td>...</td>\n",
       "      <td>...</td>\n",
       "      <td>...</td>\n",
       "      <td>...</td>\n",
       "      <td>...</td>\n",
       "      <td>...</td>\n",
       "      <td>...</td>\n",
       "      <td>...</td>\n",
       "      <td>...</td>\n",
       "      <td>...</td>\n",
       "    </tr>\n",
       "    <tr>\n",
       "      <th>2838</th>\n",
       "      <td>5</td>\n",
       "      <td>5</td>\n",
       "      <td>Sebastian Vettel VET</td>\n",
       "      <td>Ferrari</td>\n",
       "      <td>01:44.0</td>\n",
       "      <td>+1.136s</td>\n",
       "      <td>27</td>\n",
       "      <td>1</td>\n",
       "      <td>ETIHADAIRWAYSABUDHABI</td>\n",
       "      <td>3</td>\n",
       "      <td>...</td>\n",
       "      <td>31</td>\n",
       "      <td>1</td>\n",
       "      <td>01:40.8</td>\n",
       "      <td>+0.0s</td>\n",
       "      <td>16</td>\n",
       "      <td>5</td>\n",
       "      <td>01:40.3</td>\n",
       "      <td>01:40.0</td>\n",
       "      <td>01:39.7</td>\n",
       "      <td>14</td>\n",
       "    </tr>\n",
       "    <tr>\n",
       "      <th>2839</th>\n",
       "      <td>6</td>\n",
       "      <td>11</td>\n",
       "      <td>Sergio Perez PER</td>\n",
       "      <td>Force India Mercedes</td>\n",
       "      <td>01:44.2</td>\n",
       "      <td>+1.286s</td>\n",
       "      <td>23</td>\n",
       "      <td>1</td>\n",
       "      <td>ETIHADAIRWAYSABUDHABI</td>\n",
       "      <td>8</td>\n",
       "      <td>...</td>\n",
       "      <td>35</td>\n",
       "      <td>7</td>\n",
       "      <td>01:41.9</td>\n",
       "      <td>+1.110s</td>\n",
       "      <td>19</td>\n",
       "      <td>8</td>\n",
       "      <td>01:40.9</td>\n",
       "      <td>01:40.7</td>\n",
       "      <td>01:40.5</td>\n",
       "      <td>12</td>\n",
       "    </tr>\n",
       "    <tr>\n",
       "      <th>2840</th>\n",
       "      <td>7</td>\n",
       "      <td>7</td>\n",
       "      <td>Kimi RÃ¤ikkÃ¶nen RAI</td>\n",
       "      <td>Ferrari</td>\n",
       "      <td>01:44.6</td>\n",
       "      <td>+1.687s</td>\n",
       "      <td>27</td>\n",
       "      <td>1</td>\n",
       "      <td>ETIHADAIRWAYSABUDHABI</td>\n",
       "      <td>6</td>\n",
       "      <td>...</td>\n",
       "      <td>34</td>\n",
       "      <td>3</td>\n",
       "      <td>01:41.0</td>\n",
       "      <td>+0.224s</td>\n",
       "      <td>14</td>\n",
       "      <td>4</td>\n",
       "      <td>01:40.3</td>\n",
       "      <td>01:39.6</td>\n",
       "      <td>01:39.6</td>\n",
       "      <td>14</td>\n",
       "    </tr>\n",
       "    <tr>\n",
       "      <th>2842</th>\n",
       "      <td>9</td>\n",
       "      <td>19</td>\n",
       "      <td>Felipe Massa MAS</td>\n",
       "      <td>Williams Mercedes</td>\n",
       "      <td>01:45.0</td>\n",
       "      <td>+2.170s</td>\n",
       "      <td>27</td>\n",
       "      <td>1</td>\n",
       "      <td>ETIHADAIRWAYSABUDHABI</td>\n",
       "      <td>10</td>\n",
       "      <td>...</td>\n",
       "      <td>36</td>\n",
       "      <td>14</td>\n",
       "      <td>01:42.7</td>\n",
       "      <td>+1.908s</td>\n",
       "      <td>20</td>\n",
       "      <td>10</td>\n",
       "      <td>01:41.2</td>\n",
       "      <td>01:40.9</td>\n",
       "      <td>01:41.2</td>\n",
       "      <td>15</td>\n",
       "    </tr>\n",
       "    <tr>\n",
       "      <th>2850</th>\n",
       "      <td>18</td>\n",
       "      <td>14</td>\n",
       "      <td>Fernando Alonso ALO</td>\n",
       "      <td>McLaren Honda</td>\n",
       "      <td>01:46.4</td>\n",
       "      <td>+3.510s</td>\n",
       "      <td>21</td>\n",
       "      <td>1</td>\n",
       "      <td>ETIHADAIRWAYSABUDHABI</td>\n",
       "      <td>11</td>\n",
       "      <td>...</td>\n",
       "      <td>33</td>\n",
       "      <td>11</td>\n",
       "      <td>01:42.6</td>\n",
       "      <td>+1.810s</td>\n",
       "      <td>14</td>\n",
       "      <td>9</td>\n",
       "      <td>01:41.6</td>\n",
       "      <td>01:41.0</td>\n",
       "      <td>01:41.1</td>\n",
       "      <td>17</td>\n",
       "    </tr>\n",
       "  </tbody>\n",
       "</table>\n",
       "<p>1228 rows × 22 columns</p>\n",
       "</div>"
      ],
      "text/plain": [
       "      Pos  No                Driver                           Car     Time  \\\n",
       "0       1  11      Sergio Perez PER    Red Bull Racing Honda RBPT  01:32.8   \n",
       "1       2  14   Fernando Alonso ALO  Aston Martin Aramco Mercedes  01:33.2   \n",
       "2       3   1    Max Verstappen VER    Red Bull Racing Honda RBPT  01:33.4   \n",
       "4       5  16   Charles Leclerc LEC                       Ferrari  01:34.3   \n",
       "5       6  18      Lance Stroll STR  Aston Martin Aramco Mercedes  01:34.3   \n",
       "...   ...  ..                   ...                           ...      ...   \n",
       "2838    5   5  Sebastian Vettel VET                       Ferrari  01:44.0   \n",
       "2839    6  11      Sergio Perez PER          Force India Mercedes  01:44.2   \n",
       "2840    7   7  Kimi RÃ¤ikkÃ¶nen RAI                       Ferrari  01:44.6   \n",
       "2842    9  19      Felipe Massa MAS             Williams Mercedes  01:45.0   \n",
       "2850   18  14   Fernando Alonso ALO                 McLaren Honda  01:46.4   \n",
       "\n",
       "          Gap  Laps  Year                   Race  Pos_practice_2  ...  \\\n",
       "0       +0.0s    21  2023         GULFAIRBAHRAIN               3  ...   \n",
       "1     +0.438s    22  2023         GULFAIRBAHRAIN               1  ...   \n",
       "2     +0.617s    21  2023         GULFAIRBAHRAIN               2  ...   \n",
       "4     +1.499s    17  2023         GULFAIRBAHRAIN               4  ...   \n",
       "5     +1.540s    17  2023         GULFAIRBAHRAIN               6  ...   \n",
       "...       ...   ...   ...                    ...             ...  ...   \n",
       "2838  +1.136s    27     1  ETIHADAIRWAYSABUDHABI               3  ...   \n",
       "2839  +1.286s    23     1  ETIHADAIRWAYSABUDHABI               8  ...   \n",
       "2840  +1.687s    27     1  ETIHADAIRWAYSABUDHABI               6  ...   \n",
       "2842  +2.170s    27     1  ETIHADAIRWAYSABUDHABI              10  ...   \n",
       "2850  +3.510s    21     1  ETIHADAIRWAYSABUDHABI              11  ...   \n",
       "\n",
       "     Laps_practice_2 Pos_practice_3  Time_practice_3  Gap_practice_3  \\\n",
       "0                 26              3          01:32.4         +0.106s   \n",
       "1                 25              1          01:32.3           +0.0s   \n",
       "2                 24              2          01:32.3         +0.005s   \n",
       "4                 26              5          01:32.6         +0.284s   \n",
       "5                 28              7          01:32.9         +0.579s   \n",
       "...              ...            ...              ...             ...   \n",
       "2838              31              1          01:40.8           +0.0s   \n",
       "2839              35              7          01:41.9         +1.110s   \n",
       "2840              34              3          01:41.0         +0.224s   \n",
       "2842              36             14          01:42.7         +1.908s   \n",
       "2850              33             11          01:42.6         +1.810s   \n",
       "\n",
       "     Laps_practice_3 Pos_qual       Q1       Q2       Q3 Laps_qual  \n",
       "0                 12        2  01:31.5  01:30.7  01:29.8        15  \n",
       "1                 13        5  01:31.2  01:30.6  01:30.3        15  \n",
       "2                 13        1  01:31.3  01:30.5  01:29.7        15  \n",
       "4                 21        3  01:31.1  01:30.3  01:30.0        17  \n",
       "5                 16        8  01:31.2  01:31.1  01:30.8        18  \n",
       "...              ...      ...      ...      ...      ...       ...  \n",
       "2838              16        5  01:40.3  01:40.0  01:39.7        14  \n",
       "2839              19        8  01:40.9  01:40.7  01:40.5        12  \n",
       "2840              14        4  01:40.3  01:39.6  01:39.6        14  \n",
       "2842              20       10  01:41.2  01:40.9  01:41.2        15  \n",
       "2850              14        9  01:41.6  01:41.0  01:41.1        17  \n",
       "\n",
       "[1228 rows x 22 columns]"
      ]
     },
     "execution_count": 129,
     "metadata": {},
     "output_type": "execute_result"
    }
   ],
   "source": [
    "df2"
   ]
  },
  {
   "cell_type": "code",
   "execution_count": 130,
   "id": "180211e7",
   "metadata": {},
   "outputs": [
    {
     "name": "stderr",
     "output_type": "stream",
     "text": [
      "C:\\Users\\Xaalt\\AppData\\Local\\Temp\\ipykernel_4132\\983558272.py:1: SettingWithCopyWarning: \n",
      "A value is trying to be set on a copy of a slice from a DataFrame.\n",
      "Try using .loc[row_indexer,col_indexer] = value instead\n",
      "\n",
      "See the caveats in the documentation: https://pandas.pydata.org/pandas-docs/stable/user_guide/indexing.html#returning-a-view-versus-a-copy\n",
      "  df2[\"Gap_practice_1\"]=[float(re.findall('\\d+\\.\\d+', t)[0]) for t in df2[\"Gap\"]]\n",
      "C:\\Users\\Xaalt\\AppData\\Local\\Temp\\ipykernel_4132\\983558272.py:2: SettingWithCopyWarning: \n",
      "A value is trying to be set on a copy of a slice from a DataFrame.\n",
      "Try using .loc[row_indexer,col_indexer] = value instead\n",
      "\n",
      "See the caveats in the documentation: https://pandas.pydata.org/pandas-docs/stable/user_guide/indexing.html#returning-a-view-versus-a-copy\n",
      "  df2[\"Gap_practice_2_2\"]=[float(re.findall('\\d+\\.\\d+', t)[0]) for t in df2[\"Gap_practice_2\"]]\n",
      "C:\\Users\\Xaalt\\AppData\\Local\\Temp\\ipykernel_4132\\983558272.py:3: SettingWithCopyWarning: \n",
      "A value is trying to be set on a copy of a slice from a DataFrame.\n",
      "Try using .loc[row_indexer,col_indexer] = value instead\n",
      "\n",
      "See the caveats in the documentation: https://pandas.pydata.org/pandas-docs/stable/user_guide/indexing.html#returning-a-view-versus-a-copy\n",
      "  df2[\"Gap_practice_3_2\"]=[float(re.findall('\\d+\\.\\d+', t)[0]) for t in df2[\"Gap_practice_3\"]]\n"
     ]
    }
   ],
   "source": [
    "df2[\"Gap_practice_1\"]=[float(re.findall('\\d+\\.\\d+', t)[0]) for t in df2[\"Gap\"]]\n",
    "df2[\"Gap_practice_2_2\"]=[float(re.findall('\\d+\\.\\d+', t)[0]) for t in df2[\"Gap_practice_2\"]]\n",
    "df2[\"Gap_practice_3_2\"]=[float(re.findall('\\d+\\.\\d+', t)[0]) for t in df2[\"Gap_practice_3\"]]"
   ]
  },
  {
   "cell_type": "code",
   "execution_count": 132,
   "id": "30aad2cb",
   "metadata": {},
   "outputs": [
    {
     "data": {
      "text/plain": [
       "0       0.171\n",
       "1       0.000\n",
       "2       0.169\n",
       "4       0.460\n",
       "5       0.543\n",
       "        ...  \n",
       "2838    0.269\n",
       "2839    1.180\n",
       "2840    0.603\n",
       "2842    1.407\n",
       "2850    1.505\n",
       "Name: Gap_practice_2_2, Length: 1228, dtype: float64"
      ]
     },
     "execution_count": 132,
     "metadata": {},
     "output_type": "execute_result"
    }
   ],
   "source": [
    "df2[\"Gap_practice_2_2\"]"
   ]
  },
  {
   "cell_type": "code",
   "execution_count": 85,
   "id": "8106639e",
   "metadata": {},
   "outputs": [
    {
     "ename": "ValueError",
     "evalue": "could not convert string to float: 'Sergio Perez PER'",
     "output_type": "error",
     "traceback": [
      "\u001b[1;31m---------------------------------------------------------------------------\u001b[0m",
      "\u001b[1;31mValueError\u001b[0m                                Traceback (most recent call last)",
      "Cell \u001b[1;32mIn[85], line 1\u001b[0m\n\u001b[1;32m----> 1\u001b[0m df2\u001b[38;5;241m.\u001b[39mcov((\u001b[38;5;124m\"\u001b[39m\u001b[38;5;124mGap_practice_1\u001b[39m\u001b[38;5;124m\"\u001b[39m, \u001b[38;5;124m\"\u001b[39m\u001b[38;5;124mPos_qual\u001b[39m\u001b[38;5;124m\"\u001b[39m))\n",
      "File \u001b[1;32m~\\anaconda3\\Lib\\site-packages\\pandas\\core\\frame.py:10859\u001b[0m, in \u001b[0;36mDataFrame.cov\u001b[1;34m(self, min_periods, ddof, numeric_only)\u001b[0m\n\u001b[0;32m  10857\u001b[0m cols \u001b[38;5;241m=\u001b[39m data\u001b[38;5;241m.\u001b[39mcolumns\n\u001b[0;32m  10858\u001b[0m idx \u001b[38;5;241m=\u001b[39m cols\u001b[38;5;241m.\u001b[39mcopy()\n\u001b[1;32m> 10859\u001b[0m mat \u001b[38;5;241m=\u001b[39m data\u001b[38;5;241m.\u001b[39mto_numpy(dtype\u001b[38;5;241m=\u001b[39m\u001b[38;5;28mfloat\u001b[39m, na_value\u001b[38;5;241m=\u001b[39mnp\u001b[38;5;241m.\u001b[39mnan, copy\u001b[38;5;241m=\u001b[39m\u001b[38;5;28;01mFalse\u001b[39;00m)\n\u001b[0;32m  10861\u001b[0m \u001b[38;5;28;01mif\u001b[39;00m notna(mat)\u001b[38;5;241m.\u001b[39mall():\n\u001b[0;32m  10862\u001b[0m     \u001b[38;5;28;01mif\u001b[39;00m min_periods \u001b[38;5;129;01mis\u001b[39;00m \u001b[38;5;129;01mnot\u001b[39;00m \u001b[38;5;28;01mNone\u001b[39;00m \u001b[38;5;129;01mand\u001b[39;00m min_periods \u001b[38;5;241m>\u001b[39m \u001b[38;5;28mlen\u001b[39m(mat):\n",
      "File \u001b[1;32m~\\anaconda3\\Lib\\site-packages\\pandas\\core\\frame.py:1889\u001b[0m, in \u001b[0;36mDataFrame.to_numpy\u001b[1;34m(self, dtype, copy, na_value)\u001b[0m\n\u001b[0;32m   1887\u001b[0m \u001b[38;5;28;01mif\u001b[39;00m dtype \u001b[38;5;129;01mis\u001b[39;00m \u001b[38;5;129;01mnot\u001b[39;00m \u001b[38;5;28;01mNone\u001b[39;00m:\n\u001b[0;32m   1888\u001b[0m     dtype \u001b[38;5;241m=\u001b[39m np\u001b[38;5;241m.\u001b[39mdtype(dtype)\n\u001b[1;32m-> 1889\u001b[0m result \u001b[38;5;241m=\u001b[39m \u001b[38;5;28mself\u001b[39m\u001b[38;5;241m.\u001b[39m_mgr\u001b[38;5;241m.\u001b[39mas_array(dtype\u001b[38;5;241m=\u001b[39mdtype, copy\u001b[38;5;241m=\u001b[39mcopy, na_value\u001b[38;5;241m=\u001b[39mna_value)\n\u001b[0;32m   1890\u001b[0m \u001b[38;5;28;01mif\u001b[39;00m result\u001b[38;5;241m.\u001b[39mdtype \u001b[38;5;129;01mis\u001b[39;00m \u001b[38;5;129;01mnot\u001b[39;00m dtype:\n\u001b[0;32m   1891\u001b[0m     result \u001b[38;5;241m=\u001b[39m np\u001b[38;5;241m.\u001b[39marray(result, dtype\u001b[38;5;241m=\u001b[39mdtype, copy\u001b[38;5;241m=\u001b[39m\u001b[38;5;28;01mFalse\u001b[39;00m)\n",
      "File \u001b[1;32m~\\anaconda3\\Lib\\site-packages\\pandas\\core\\internals\\managers.py:1656\u001b[0m, in \u001b[0;36mBlockManager.as_array\u001b[1;34m(self, dtype, copy, na_value)\u001b[0m\n\u001b[0;32m   1654\u001b[0m         arr\u001b[38;5;241m.\u001b[39mflags\u001b[38;5;241m.\u001b[39mwriteable \u001b[38;5;241m=\u001b[39m \u001b[38;5;28;01mFalse\u001b[39;00m\n\u001b[0;32m   1655\u001b[0m \u001b[38;5;28;01melse\u001b[39;00m:\n\u001b[1;32m-> 1656\u001b[0m     arr \u001b[38;5;241m=\u001b[39m \u001b[38;5;28mself\u001b[39m\u001b[38;5;241m.\u001b[39m_interleave(dtype\u001b[38;5;241m=\u001b[39mdtype, na_value\u001b[38;5;241m=\u001b[39mna_value)\n\u001b[0;32m   1657\u001b[0m     \u001b[38;5;66;03m# The underlying data was copied within _interleave, so no need\u001b[39;00m\n\u001b[0;32m   1658\u001b[0m     \u001b[38;5;66;03m# to further copy if copy=True or setting na_value\u001b[39;00m\n\u001b[0;32m   1660\u001b[0m \u001b[38;5;28;01mif\u001b[39;00m na_value \u001b[38;5;129;01mis\u001b[39;00m lib\u001b[38;5;241m.\u001b[39mno_default:\n",
      "File \u001b[1;32m~\\anaconda3\\Lib\\site-packages\\pandas\\core\\internals\\managers.py:1715\u001b[0m, in \u001b[0;36mBlockManager._interleave\u001b[1;34m(self, dtype, na_value)\u001b[0m\n\u001b[0;32m   1713\u001b[0m     \u001b[38;5;28;01melse\u001b[39;00m:\n\u001b[0;32m   1714\u001b[0m         arr \u001b[38;5;241m=\u001b[39m blk\u001b[38;5;241m.\u001b[39mget_values(dtype)\n\u001b[1;32m-> 1715\u001b[0m     result[rl\u001b[38;5;241m.\u001b[39mindexer] \u001b[38;5;241m=\u001b[39m arr\n\u001b[0;32m   1716\u001b[0m     itemmask[rl\u001b[38;5;241m.\u001b[39mindexer] \u001b[38;5;241m=\u001b[39m \u001b[38;5;241m1\u001b[39m\n\u001b[0;32m   1718\u001b[0m \u001b[38;5;28;01mif\u001b[39;00m \u001b[38;5;129;01mnot\u001b[39;00m itemmask\u001b[38;5;241m.\u001b[39mall():\n",
      "\u001b[1;31mValueError\u001b[0m: could not convert string to float: 'Sergio Perez PER'"
     ]
    }
   ],
   "source": [
    "df2.cov((\"Gap_practice_1\", \"Pos_qual\"))"
   ]
  },
  {
   "cell_type": "code",
   "execution_count": 124,
   "id": "b1efef9a",
   "metadata": {},
   "outputs": [],
   "source": [
    "df2[\"Gap_practice_2\"]=[float(re.findall('\\d+\\.\\d+', t)[0]) for t in df2[\"Gap_practice_2\"]]"
   ]
  },
  {
   "cell_type": "code",
   "execution_count": 87,
   "id": "38e42f88",
   "metadata": {},
   "outputs": [
    {
     "data": {
      "text/plain": [
       "'2'"
      ]
     },
     "execution_count": 87,
     "metadata": {},
     "output_type": "execute_result"
    }
   ],
   "source": [
    "df2['Pos_qual'][0]"
   ]
  },
  {
   "cell_type": "code",
   "execution_count": 88,
   "id": "6cc5518a",
   "metadata": {},
   "outputs": [
    {
     "ename": "TypeError",
     "evalue": "cannot convert the series to <class 'float'>",
     "output_type": "error",
     "traceback": [
      "\u001b[1;31m---------------------------------------------------------------------------\u001b[0m",
      "\u001b[1;31mTypeError\u001b[0m                                 Traceback (most recent call last)",
      "Cell \u001b[1;32mIn[88], line 1\u001b[0m\n\u001b[1;32m----> 1\u001b[0m df2[\u001b[38;5;124m'\u001b[39m\u001b[38;5;124mPos_qual\u001b[39m\u001b[38;5;124m'\u001b[39m]\u001b[38;5;241m=\u001b[39m\u001b[38;5;28mfloat\u001b[39m(df2[\u001b[38;5;124m\"\u001b[39m\u001b[38;5;124mPos_qual\u001b[39m\u001b[38;5;124m\"\u001b[39m])\n",
      "File \u001b[1;32m~\\anaconda3\\Lib\\site-packages\\pandas\\core\\series.py:230\u001b[0m, in \u001b[0;36m_coerce_method.<locals>.wrapper\u001b[1;34m(self)\u001b[0m\n\u001b[0;32m    222\u001b[0m     warnings\u001b[38;5;241m.\u001b[39mwarn(\n\u001b[0;32m    223\u001b[0m         \u001b[38;5;124mf\u001b[39m\u001b[38;5;124m\"\u001b[39m\u001b[38;5;124mCalling \u001b[39m\u001b[38;5;132;01m{\u001b[39;00mconverter\u001b[38;5;241m.\u001b[39m\u001b[38;5;18m__name__\u001b[39m\u001b[38;5;132;01m}\u001b[39;00m\u001b[38;5;124m on a single element Series is \u001b[39m\u001b[38;5;124m\"\u001b[39m\n\u001b[0;32m    224\u001b[0m         \u001b[38;5;124m\"\u001b[39m\u001b[38;5;124mdeprecated and will raise a TypeError in the future. \u001b[39m\u001b[38;5;124m\"\u001b[39m\n\u001b[1;32m   (...)\u001b[0m\n\u001b[0;32m    227\u001b[0m         stacklevel\u001b[38;5;241m=\u001b[39mfind_stack_level(),\n\u001b[0;32m    228\u001b[0m     )\n\u001b[0;32m    229\u001b[0m     \u001b[38;5;28;01mreturn\u001b[39;00m converter(\u001b[38;5;28mself\u001b[39m\u001b[38;5;241m.\u001b[39miloc[\u001b[38;5;241m0\u001b[39m])\n\u001b[1;32m--> 230\u001b[0m \u001b[38;5;28;01mraise\u001b[39;00m \u001b[38;5;167;01mTypeError\u001b[39;00m(\u001b[38;5;124mf\u001b[39m\u001b[38;5;124m\"\u001b[39m\u001b[38;5;124mcannot convert the series to \u001b[39m\u001b[38;5;132;01m{\u001b[39;00mconverter\u001b[38;5;132;01m}\u001b[39;00m\u001b[38;5;124m\"\u001b[39m)\n",
      "\u001b[1;31mTypeError\u001b[0m: cannot convert the series to <class 'float'>"
     ]
    }
   ],
   "source": [
    "df2['Pos_qual']=float(df2[\"Pos_qual\"])"
   ]
  },
  {
   "cell_type": "code",
   "execution_count": 138,
   "id": "1032e2ac",
   "metadata": {},
   "outputs": [],
   "source": [
    "df2[\"Pos_qual\"][721]=-1 #721 has NC not float so drop?\n",
    "df2['Pos_qual']=pd.to_numeric(df2['Pos_qual'])"
   ]
  },
  {
   "cell_type": "code",
   "execution_count": 137,
   "id": "b7e7e1fa",
   "metadata": {},
   "outputs": [
    {
     "name": "stderr",
     "output_type": "stream",
     "text": [
      "C:\\Users\\Xaalt\\AppData\\Local\\Temp\\ipykernel_4132\\446179021.py:1: SettingWithCopyWarning: \n",
      "A value is trying to be set on a copy of a slice from a DataFrame\n",
      "\n",
      "See the caveats in the documentation: https://pandas.pydata.org/pandas-docs/stable/user_guide/indexing.html#returning-a-view-versus-a-copy\n",
      "  df2[\"Pos_qual\"][721]=-1\n"
     ]
    }
   ],
   "source": [
    "df2[\"Pos_qual\"][721]=-1"
   ]
  },
  {
   "cell_type": "code",
   "execution_count": 121,
   "id": "d426a247",
   "metadata": {},
   "outputs": [],
   "source": [
    "from scipy.stats import pearsonr"
   ]
  },
  {
   "cell_type": "code",
   "execution_count": 122,
   "id": "5c5cec24",
   "metadata": {},
   "outputs": [
    {
     "data": {
      "text/plain": [
       "PearsonRResult(statistic=0.4165665466621268, pvalue=9.935889484373996e-53)"
      ]
     },
     "execution_count": 122,
     "metadata": {},
     "output_type": "execute_result"
    }
   ],
   "source": [
    "pearsonr(df2['Pos_qual'], df2['Gap_practice_1'])"
   ]
  },
  {
   "cell_type": "code",
   "execution_count": 135,
   "id": "04d13f3b",
   "metadata": {},
   "outputs": [
    {
     "ename": "TypeError",
     "evalue": "unsupported operand type(s) for +: 'float' and 'str'",
     "output_type": "error",
     "traceback": [
      "\u001b[1;31m---------------------------------------------------------------------------\u001b[0m",
      "\u001b[1;31mTypeError\u001b[0m                                 Traceback (most recent call last)",
      "\u001b[1;32m~\\AppData\\Local\\Temp\\ipykernel_4132\\3981008051.py\u001b[0m in \u001b[0;36m?\u001b[1;34m()\u001b[0m\n\u001b[1;32m----> 1\u001b[1;33m \u001b[0mpearsonr\u001b[0m\u001b[1;33m(\u001b[0m\u001b[0mdf2\u001b[0m\u001b[1;33m[\u001b[0m\u001b[1;34m'Pos_qual'\u001b[0m\u001b[1;33m]\u001b[0m\u001b[1;33m,\u001b[0m \u001b[0mdf2\u001b[0m\u001b[1;33m[\u001b[0m\u001b[1;34m'Gap_practice_2_2'\u001b[0m\u001b[1;33m]\u001b[0m\u001b[1;33m)\u001b[0m\u001b[1;33m\u001b[0m\u001b[1;33m\u001b[0m\u001b[0m\n\u001b[0m",
      "\u001b[1;32m~\\anaconda3\\Lib\\site-packages\\scipy\\stats\\_stats_py.py\u001b[0m in \u001b[0;36m?\u001b[1;34m(x, y, alternative, method)\u001b[0m\n\u001b[0;32m   4814\u001b[0m \u001b[1;33m\u001b[0m\u001b[0m\n\u001b[0;32m   4815\u001b[0m     \u001b[1;31m# dtype is the data type for the calculations.  This expression ensures\u001b[0m\u001b[1;33m\u001b[0m\u001b[1;33m\u001b[0m\u001b[0m\n\u001b[0;32m   4816\u001b[0m     \u001b[1;31m# that the data type is at least 64 bit floating point.  It might have\u001b[0m\u001b[1;33m\u001b[0m\u001b[1;33m\u001b[0m\u001b[0m\n\u001b[0;32m   4817\u001b[0m     \u001b[1;31m# more precision if the input is, for example, np.longdouble.\u001b[0m\u001b[1;33m\u001b[0m\u001b[1;33m\u001b[0m\u001b[0m\n\u001b[1;32m-> 4818\u001b[1;33m     \u001b[0mdtype\u001b[0m \u001b[1;33m=\u001b[0m \u001b[0mtype\u001b[0m\u001b[1;33m(\u001b[0m\u001b[1;36m1.0\u001b[0m \u001b[1;33m+\u001b[0m \u001b[0mx\u001b[0m\u001b[1;33m[\u001b[0m\u001b[1;36m0\u001b[0m\u001b[1;33m]\u001b[0m \u001b[1;33m+\u001b[0m \u001b[0my\u001b[0m\u001b[1;33m[\u001b[0m\u001b[1;36m0\u001b[0m\u001b[1;33m]\u001b[0m\u001b[1;33m)\u001b[0m\u001b[1;33m\u001b[0m\u001b[1;33m\u001b[0m\u001b[0m\n\u001b[0m\u001b[0;32m   4819\u001b[0m \u001b[1;33m\u001b[0m\u001b[0m\n\u001b[0;32m   4820\u001b[0m     \u001b[1;32mif\u001b[0m \u001b[0mn\u001b[0m \u001b[1;33m==\u001b[0m \u001b[1;36m2\u001b[0m\u001b[1;33m:\u001b[0m\u001b[1;33m\u001b[0m\u001b[1;33m\u001b[0m\u001b[0m\n\u001b[0;32m   4821\u001b[0m         \u001b[0mr\u001b[0m \u001b[1;33m=\u001b[0m \u001b[0mdtype\u001b[0m\u001b[1;33m(\u001b[0m\u001b[0mnp\u001b[0m\u001b[1;33m.\u001b[0m\u001b[0msign\u001b[0m\u001b[1;33m(\u001b[0m\u001b[0mx\u001b[0m\u001b[1;33m[\u001b[0m\u001b[1;36m1\u001b[0m\u001b[1;33m]\u001b[0m \u001b[1;33m-\u001b[0m \u001b[0mx\u001b[0m\u001b[1;33m[\u001b[0m\u001b[1;36m0\u001b[0m\u001b[1;33m]\u001b[0m\u001b[1;33m)\u001b[0m\u001b[1;33m*\u001b[0m\u001b[0mnp\u001b[0m\u001b[1;33m.\u001b[0m\u001b[0msign\u001b[0m\u001b[1;33m(\u001b[0m\u001b[0my\u001b[0m\u001b[1;33m[\u001b[0m\u001b[1;36m1\u001b[0m\u001b[1;33m]\u001b[0m \u001b[1;33m-\u001b[0m \u001b[0my\u001b[0m\u001b[1;33m[\u001b[0m\u001b[1;36m0\u001b[0m\u001b[1;33m]\u001b[0m\u001b[1;33m)\u001b[0m\u001b[1;33m)\u001b[0m\u001b[1;33m\u001b[0m\u001b[1;33m\u001b[0m\u001b[0m\n",
      "\u001b[1;31mTypeError\u001b[0m: unsupported operand type(s) for +: 'float' and 'str'"
     ]
    }
   ],
   "source": [
    "pearsonr(df2['Pos_qual'], df2['Gap_practice_2_2'])"
   ]
  },
  {
   "cell_type": "code",
   "execution_count": null,
   "id": "a0f9083b",
   "metadata": {},
   "outputs": [],
   "source": []
  }
 ],
 "metadata": {
  "kernelspec": {
   "display_name": "Python 3 (ipykernel)",
   "language": "python",
   "name": "python3"
  },
  "language_info": {
   "codemirror_mode": {
    "name": "ipython",
    "version": 3
   },
   "file_extension": ".py",
   "mimetype": "text/x-python",
   "name": "python",
   "nbconvert_exporter": "python",
   "pygments_lexer": "ipython3",
   "version": "3.11.7"
  }
 },
 "nbformat": 4,
 "nbformat_minor": 5
}
