{
 "cells": [
  {
   "cell_type": "code",
   "execution_count": 2,
   "id": "99afc496",
   "metadata": {},
   "outputs": [],
   "source": [
    "import pandas as pd\n",
    "import numpy as np\n",
    "import math\n",
    "\n",
    "import matplotlib.pyplot as plt\n",
    "import seaborn as sns\n",
    "from seaborn import set_style\n",
    "set_style(\"whitegrid\")"
   ]
  },
  {
   "cell_type": "code",
   "execution_count": 20,
   "id": "33a38bef",
   "metadata": {},
   "outputs": [],
   "source": [
    "def powerset(s):\n",
    "    power_set = [[]]\n",
    "    for x in s:\n",
    "        power_set += [s0+[x] for s0 in power_set]\n",
    "    return power_set[1:]"
   ]
  },
  {
   "cell_type": "code",
   "execution_count": 3,
   "id": "b03440b4",
   "metadata": {},
   "outputs": [],
   "source": [
    "df = pd.read_csv('F1Data.csv')"
   ]
  },
  {
   "cell_type": "code",
   "execution_count": 4,
   "id": "4ef88c53",
   "metadata": {},
   "outputs": [],
   "source": [
    "F1_master_test = df[df['Season'] >= 2021]\n",
    "F1_2020 = df[df['Season'] <= 2020]\n",
    "F1 = F1_2020[F1_2020['Qualifying Time'] > 30]"
   ]
  },
  {
   "cell_type": "code",
   "execution_count": 21,
   "id": "da8e78cf",
   "metadata": {},
   "outputs": [],
   "source": [
    "potential_features = ['FP1 Time', 'FP1 Gap', 'FP1 Laps',\n",
    "                      'FP2 Time', 'FP2 Gap', 'FP2 Laps',\n",
    "                      'FP3 Time', 'FP3 Gap', 'FP3 Laps']\n",
    "\n",
    "all_models = ['baseline']\n",
    "all_models.extend(powerset(potential_features))"
   ]
  },
  {
   "cell_type": "code",
   "execution_count": 5,
   "id": "979f06c2",
   "metadata": {},
   "outputs": [],
   "source": [
    "from sklearn.model_selection import train_test_split"
   ]
  },
  {
   "cell_type": "code",
   "execution_count": 6,
   "id": "c8db1f66",
   "metadata": {},
   "outputs": [],
   "source": [
    "F1_train, F1_test = train_test_split(F1, test_size = .2, random_state = 949, shuffle = True)"
   ]
  },
  {
   "cell_type": "code",
   "execution_count": 25,
   "id": "2bb7f009",
   "metadata": {},
   "outputs": [],
   "source": [
    "## import KFold, Linear Regression, and kNeighborsRegressor here\n",
    "from sklearn.model_selection import KFold\n",
    "from sklearn.linear_model import LinearRegression\n",
    "from sklearn.neighbors import KNeighborsRegressor\n",
    "\n",
    "## import mean_squared_error\n",
    "from sklearn.metrics import mean_squared_error"
   ]
  },
  {
   "cell_type": "code",
   "execution_count": 33,
   "id": "829ec7e9",
   "metadata": {},
   "outputs": [],
   "source": [
    "kfold = KFold(5, random_state = 818, shuffle = True)\n",
    "mses = np.zeros((len(all_models), 5))"
   ]
  },
  {
   "cell_type": "code",
   "execution_count": 38,
   "id": "2d8c5577",
   "metadata": {},
   "outputs": [],
   "source": [
    "j = 0\n",
    "for train_index, test_index in kfold.split(F1_train):\n",
    "    F1_tt = F1_train.iloc[train_index]\n",
    "    F1_ho = F1_train.iloc[test_index]\n",
    "    \n",
    "    i = 0\n",
    "    for model in all_models:\n",
    "        if model == \"baseline\":\n",
    "            pred = F1_tt['Qualifying Time'].mean() * np.ones(len(F1_ho))\n",
    "            mses[i, j] = mean_squared_error(F1_ho['Qualifying Time'], pred)\n",
    "        else:\n",
    "            if len(model) == 1:\n",
    "                reg = LinearRegression()\n",
    "                reg.fit(F1_tt[model].values.reshape(-1,1), F1_tt['Qualifying Time'])\n",
    "                pred = reg.predict(F1_ho[model].values.reshape(-1,1))\n",
    "                mses[i, j] = mean_squared_error(F1_ho['Qualifying Time'], pred)\n",
    "            else:\n",
    "                reg = LinearRegression()\n",
    "                reg.fit(F1_tt[model].values, F1_tt['Qualifying Time'])\n",
    "                pred = reg.predict(F1_ho[model].values)\n",
    "                mses[i, j] = mean_squared_error(F1_ho['Qualifying Time'], pred)\n",
    "        i = i + 1\n",
    "    j = j + 1"
   ]
  },
  {
   "cell_type": "code",
   "execution_count": 39,
   "id": "b5b35b53",
   "metadata": {},
   "outputs": [
    {
     "data": {
      "text/plain": [
       "array([[155.53917559, 161.11390605, 146.40081396, 157.36452497,\n",
       "        162.99920087],\n",
       "       [ 26.47451776,  28.17773121,  23.73166091,  27.26186431,\n",
       "         32.30293149],\n",
       "       [146.69030596, 153.01979425, 141.62849844, 147.56392895,\n",
       "        166.91732283],\n",
       "       ...,\n",
       "       [ 13.19445137,  14.79415374,  13.90538162,  13.46398158,\n",
       "         15.26018226],\n",
       "       [ 13.92068076,  15.21754404,  14.56128404,  13.71075204,\n",
       "         15.91372817],\n",
       "       [ 12.97607519,  14.55782475,  13.97311852,  13.17798263,\n",
       "         14.99648017]])"
      ]
     },
     "execution_count": 39,
     "metadata": {},
     "output_type": "execute_result"
    }
   ],
   "source": [
    "mses"
   ]
  },
  {
   "cell_type": "code",
   "execution_count": 44,
   "id": "c4aae55e",
   "metadata": {},
   "outputs": [
    {
     "data": {
      "text/plain": [
       "3.7254825197592902"
      ]
     },
     "execution_count": 44,
     "metadata": {},
     "output_type": "execute_result"
    }
   ],
   "source": [
    "np.min(np.mean(np.sqrt(mses), axis = 1))"
   ]
  },
  {
   "cell_type": "code",
   "execution_count": 45,
   "id": "ebb78c0b",
   "metadata": {},
   "outputs": [
    {
     "data": {
      "text/plain": [
       "['FP1 Time', 'FP1 Gap', 'FP2 Gap', 'FP2 Laps', 'FP3 Time']"
      ]
     },
     "execution_count": 45,
     "metadata": {},
     "output_type": "execute_result"
    }
   ],
   "source": [
    "all_models[np.argmin(np.mean(np.sqrt(mses), axis=1))]"
   ]
  },
  {
   "cell_type": "code",
   "execution_count": null,
   "id": "47cb6ee8",
   "metadata": {},
   "outputs": [],
   "source": []
  },
  {
   "cell_type": "code",
   "execution_count": null,
   "id": "40a2dddf",
   "metadata": {},
   "outputs": [],
   "source": []
  },
  {
   "cell_type": "code",
   "execution_count": null,
   "id": "87a4af93",
   "metadata": {},
   "outputs": [],
   "source": []
  },
  {
   "cell_type": "code",
   "execution_count": null,
   "id": "addc423a",
   "metadata": {},
   "outputs": [],
   "source": []
  },
  {
   "cell_type": "code",
   "execution_count": null,
   "id": "168412d7",
   "metadata": {},
   "outputs": [],
   "source": []
  },
  {
   "cell_type": "code",
   "execution_count": null,
   "id": "2e255743",
   "metadata": {},
   "outputs": [],
   "source": []
  },
  {
   "cell_type": "code",
   "execution_count": null,
   "id": "c86e576b",
   "metadata": {},
   "outputs": [],
   "source": []
  },
  {
   "cell_type": "code",
   "execution_count": null,
   "id": "5eaef09f",
   "metadata": {},
   "outputs": [],
   "source": []
  },
  {
   "cell_type": "code",
   "execution_count": 57,
   "id": "bd0c819e",
   "metadata": {},
   "outputs": [],
   "source": [
    "i = 0\n",
    "mse = np.zeros((8, 5))\n",
    "for train_index, test_index in kfold.split(F1_train):\n",
    "    F1_tt = F1_train.iloc[train_index]\n",
    "    F1_ho = F1_train.iloc[test_index]\n",
    "    \n",
    "    ## \"Fit\" and get ho mse for the baseline model\n",
    "    baseline_pred = F1_tt['Qualifying Time'].mean()*np.ones(len(F1_ho))\n",
    "    \n",
    "    mse[0, i] = mean_squared_error(F1_ho['Qualifying Time'], \n",
    "                                             baseline_pred)\n",
    "    \n",
    "    ## Model 1\n",
    "    slr_1 = LinearRegression()\n",
    "    slr_1.fit(F1_tt['FP2 Laps'].values.reshape(-1,1), F1_tt['Qualifying Time'])\n",
    "    mse[1, i] = mean_squared_error(F1_ho['Qualifying Time'], \n",
    "                                             slr_1.predict(F1_ho['FP2 Laps'].values.reshape(-1,1)))\n",
    "    \n",
    "    ## Model 2\n",
    "    slr_2 = LinearRegression()\n",
    "    slr_2.fit(F1_tt['FP2 Gap'].values.reshape(-1,1), F1_tt['Qualifying Time'])\n",
    "    mse[2, i] = mean_squared_error(F1_ho['Qualifying Time'], \n",
    "                                   slr_2.predict(F1_ho['FP2 Gap'].values.reshape(-1,1)))\n",
    "    \n",
    "    ## Model 3\n",
    "    slr_3 = LinearRegression()\n",
    "    slr_3.fit(F1_tt['FP2 Time'].values.reshape(-1,1), F1_tt['Qualifying Time'])\n",
    "    mse[3, i] = mean_squared_error(F1_ho['Qualifying Time'], \n",
    "                                   slr_3.predict(F1_ho['FP2 Time'].values.reshape(-1,1)))\n",
    "    \n",
    "    ## Model 4\n",
    "    slr_4 = LinearRegression()\n",
    "    slr_4.fit(F1_tt[['FP1 Time', 'FP1 Laps']],\n",
    "               F1_tt['Qualifying Time'])\n",
    "    mse[4, i] = mean_squared_error(F1_ho['Qualifying Time'], \n",
    "                                   slr_4.predict(F1_ho[['FP1 Time', 'FP1 Laps']]))\n",
    "    \n",
    "    \n",
    "    ## Model 5\n",
    "    slr_5 = LinearRegression()\n",
    "    slr_5.fit(F1_tt[['FP1 Time', 'FP1 Gap', 'FP2 Gap',\n",
    "                     'FP2 Laps', 'FP3 Time']],\n",
    "               F1_tt['Qualifying Time'])\n",
    "    mse[5, i] = mean_squared_error(F1_ho['Qualifying Time'], \n",
    "                                   slr_5.predict(F1_ho[['FP1 Time', 'FP1 Gap', 'FP2 Gap',\n",
    "                                                        'FP2 Laps', 'FP3 Time']]))\n",
    "    \n",
    "    ## Model 6\n",
    "    knn_op = KNeighborsRegressor(10)\n",
    "    \n",
    "    knn_op.fit(F1_tt[['FP1 Time', 'FP1 Gap', 'FP2 Gap',\n",
    "                   'FP2 Laps', 'FP3 Time']], \n",
    "            F1_tt['Qualifying Time'].values)\n",
    "    \n",
    "    mse[6, i] = mean_squared_error(F1_ho['Qualifying Time'], \n",
    "                                   knn_op.predict(F1_ho[['FP1 Time', 'FP1 Gap', 'FP2 Gap',\n",
    "                                                         'FP2 Laps', 'FP3 Time']]))\n",
    "    \n",
    "    ## Model 7\n",
    "    knn = KNeighborsRegressor(10)\n",
    "    \n",
    "    knn.fit(F1_tt[['FP1 Time', 'FP1 Gap', 'FP1 Laps',\n",
    "                   'FP2 Time', 'FP2 Gap', 'FP2 Laps',\n",
    "                   'FP3 Time', 'FP3 Gap', 'FP3 Laps']], \n",
    "            F1_tt['Qualifying Time'].values)\n",
    "    \n",
    "    mse[7, i] = mean_squared_error(F1_ho['Qualifying Time'], \n",
    "                                   knn.predict(F1_ho[['FP1 Time', 'FP1 Gap', 'FP1 Laps',\n",
    "                                                      'FP2 Time', 'FP2 Gap', 'FP2 Laps',\n",
    "                                                      'FP3 Time', 'FP3 Gap', 'FP3 Laps']]))\n",
    "    \n",
    "    \n",
    "    \n",
    "    i = i + 1"
   ]
  },
  {
   "cell_type": "code",
   "execution_count": 58,
   "id": "4236a4ab",
   "metadata": {},
   "outputs": [
    {
     "data": {
      "text/plain": [
       "array([[155.53917559, 161.11390605, 146.40081396, 157.36452497,\n",
       "        162.99920087],\n",
       "       [140.43588325, 148.26289963, 130.89130213, 152.78247508,\n",
       "        153.26677226],\n",
       "       [145.10612576, 151.55326747, 142.7812697 , 150.25242679,\n",
       "        156.56144159],\n",
       "       [ 39.41035341,  34.78324181,  25.94856554,  35.99808995,\n",
       "         39.77195586],\n",
       "       [ 25.92720065,  27.68306789,  23.62003984,  26.7331884 ,\n",
       "         31.53583622],\n",
       "       [ 13.0443496 ,  14.39239437,  13.94364071,  13.1262779 ,\n",
       "         14.93703795],\n",
       "       [ 10.41710346,  12.70888194,  11.83298864,  11.25057074,\n",
       "         11.96400131],\n",
       "       [  8.81862313,  12.10010296,  13.51655659,  11.36009166,\n",
       "         11.0496126 ]])"
      ]
     },
     "execution_count": 58,
     "metadata": {},
     "output_type": "execute_result"
    }
   ],
   "source": [
    "mse"
   ]
  },
  {
   "cell_type": "code",
   "execution_count": null,
   "id": "e7471409",
   "metadata": {},
   "outputs": [],
   "source": []
  },
  {
   "cell_type": "code",
   "execution_count": 12,
   "id": "0a205d4a",
   "metadata": {},
   "outputs": [],
   "source": [
    "# plt.figure(figsize=(7,5))\n",
    "\n",
    "# plt.hist(cars_train.selling_price, bins=30)\n",
    "\n",
    "# plt.xticks(fontsize=10)\n",
    "# plt.yticks(fontsize=10)\n",
    "\n",
    "# plt.ylabel(\"Count\", fontsize=12)\n",
    "# plt.xlabel(\"Selling Price\", fontsize=12)\n",
    "\n",
    "# plt.title(\"Histogram of Selling Price\", fontsize=14)\n",
    "\n",
    "# plt.show()"
   ]
  },
  {
   "cell_type": "code",
   "execution_count": 13,
   "id": "9d669bef",
   "metadata": {},
   "outputs": [
    {
     "name": "stderr",
     "output_type": "stream",
     "text": [
      "/opt/anaconda3/lib/python3.11/site-packages/sklearn/base.py:432: UserWarning: X has feature names, but LinearRegression was fitted without feature names\n",
      "  warnings.warn(\n"
     ]
    }
   ],
   "source": [
    "X = knn_.predict(F1_test[['FP2 Laps']])\n",
    "\n",
    "Y = F1_test['Qualifying Time']"
   ]
  },
  {
   "cell_type": "code",
   "execution_count": 14,
   "id": "39922736",
   "metadata": {},
   "outputs": [
    {
     "data": {
      "text/plain": [
       "145.49776615243857"
      ]
     },
     "execution_count": 14,
     "metadata": {},
     "output_type": "execute_result"
    }
   ],
   "source": [
    "mean_squared_error(Y,X)"
   ]
  },
  {
   "cell_type": "code",
   "execution_count": null,
   "id": "6813f8eb",
   "metadata": {},
   "outputs": [],
   "source": []
  },
  {
   "cell_type": "code",
   "execution_count": 15,
   "id": "de9db3e7",
   "metadata": {},
   "outputs": [
    {
     "data": {
      "image/png": "[encoded data removed]",
      "text/plain": [
       "<Figure size 700x500 with 1 Axes>"
      ]
     },
     "metadata": {},
     "output_type": "display_data"
    }
   ],
   "source": [
    "# X = knn.predict(F1_test[['FP1 Time', 'FP1 Gap', 'FP1 Laps',\n",
    "#                                       'FP2 Time', 'FP2 Gap', 'FP2 Laps',\n",
    "#                                       'FP3 Time', 'FP3 Gap', 'FP3 Laps']])\n",
    "# Y = F1_test['Qualifying Time'].values\n",
    "\n",
    "plt.figure(figsize=(7,5))\n",
    "\n",
    "plt.scatter(X,Y)\n",
    "\n",
    "plt.xticks(fontsize=10)\n",
    "plt.yticks(fontsize=10)\n",
    "\n",
    "plt.ylabel(\"Qualifying Time\", fontsize=12)\n",
    "plt.xlabel(\"Predicted Qualifying Time\", fontsize=12)\n",
    "\n",
    "plt.title(\"slr test (FP2 Laps)\", fontsize=14)\n",
    "\n",
    "plt.show()"
   ]
  },
  {
   "cell_type": "code",
   "execution_count": 16,
   "id": "8a306452",
   "metadata": {},
   "outputs": [
    {
     "name": "stderr",
     "output_type": "stream",
     "text": [
      "/opt/anaconda3/lib/python3.11/site-packages/sklearn/base.py:432: UserWarning: X has feature names, but LinearRegression was fitted without feature names\n",
      "  warnings.warn(\n"
     ]
    }
   ],
   "source": [
    "X_main = slr_1.predict(F1_master_test[['FP2 Laps']])\n",
    "\n",
    "Y_main = F1_master_test['Qualifying Time'].values"
   ]
  },
  {
   "cell_type": "code",
   "execution_count": 17,
   "id": "f45e605c",
   "metadata": {},
   "outputs": [
    {
     "data": {
      "text/plain": [
       "147.03200718036172"
      ]
     },
     "execution_count": 17,
     "metadata": {},
     "output_type": "execute_result"
    }
   ],
   "source": [
    "mean_squared_error(Y_main,X_main)"
   ]
  },
  {
   "cell_type": "code",
   "execution_count": 18,
   "id": "449ed381",
   "metadata": {},
   "outputs": [
    {
     "data": {
      "image/png": "[encoded data removed]",
      "text/plain": [
       "<Figure size 700x500 with 1 Axes>"
      ]
     },
     "metadata": {},
     "output_type": "display_data"
    }
   ],
   "source": [
    "plt.figure(figsize=(7,5))\n",
    "\n",
    "plt.scatter(X_main,Y_main)\n",
    "\n",
    "plt.xticks(fontsize=10)\n",
    "plt.yticks(fontsize=10)\n",
    "\n",
    "plt.ylabel(\"Qualifying Time\", fontsize=12)\n",
    "plt.xlabel(\"Predicted Qualifying Time\", fontsize=12)\n",
    "\n",
    "plt.title(\"slr validation (FP2 Laps)\", fontsize=14)\n",
    "\n",
    "plt.show()"
   ]
  },
  {
   "cell_type": "code",
   "execution_count": 19,
   "id": "7d487fb3",
   "metadata": {},
   "outputs": [
    {
     "data": {
      "text/html": [
       "<div>\n",
       "<style scoped>\n",
       "    .dataframe tbody tr th:only-of-type {\n",
       "        vertical-align: middle;\n",
       "    }\n",
       "\n",
       "    .dataframe tbody tr th {\n",
       "        vertical-align: top;\n",
       "    }\n",
       "\n",
       "    .dataframe thead th {\n",
       "        text-align: right;\n",
       "    }\n",
       "</style>\n",
       "<table border=\"1\" class=\"dataframe\">\n",
       "  <thead>\n",
       "    <tr style=\"text-align: right;\">\n",
       "      <th></th>\n",
       "      <th>Season</th>\n",
       "      <th>Grand Prix</th>\n",
       "      <th>Driver</th>\n",
       "      <th>Constructor</th>\n",
       "      <th>FP1 Time</th>\n",
       "      <th>FP1 Gap</th>\n",
       "      <th>FP1 Laps</th>\n",
       "      <th>FP2 Time</th>\n",
       "      <th>FP2 Gap</th>\n",
       "      <th>FP2 Laps</th>\n",
       "      <th>FP3 Time</th>\n",
       "      <th>FP3 Gap</th>\n",
       "      <th>FP3 Laps</th>\n",
       "      <th>Grid Position</th>\n",
       "      <th>Qualifying Time</th>\n",
       "    </tr>\n",
       "  </thead>\n",
       "  <tbody>\n",
       "    <tr>\n",
       "      <th>1613</th>\n",
       "      <td>2018</td>\n",
       "      <td>azerbaijan-grand-prix</td>\n",
       "      <td>Stroll</td>\n",
       "      <td>Williams</td>\n",
       "      <td>106.590</td>\n",
       "      <td>2.348</td>\n",
       "      <td>26.0</td>\n",
       "      <td>104.459</td>\n",
       "      <td>1.664</td>\n",
       "      <td>31.0</td>\n",
       "      <td>104.123</td>\n",
       "      <td>1.032</td>\n",
       "      <td>8.0</td>\n",
       "      <td>11.0</td>\n",
       "      <td>104.359</td>\n",
       "    </tr>\n",
       "    <tr>\n",
       "      <th>2997</th>\n",
       "      <td>2014</td>\n",
       "      <td>monaco-grand-prix</td>\n",
       "      <td>Pérez</td>\n",
       "      <td>Force India</td>\n",
       "      <td>79.666</td>\n",
       "      <td>1.395</td>\n",
       "      <td>29.0</td>\n",
       "      <td>79.668</td>\n",
       "      <td>1.186</td>\n",
       "      <td>9.0</td>\n",
       "      <td>77.725</td>\n",
       "      <td>0.967</td>\n",
       "      <td>23.0</td>\n",
       "      <td>10.0</td>\n",
       "      <td>78.108</td>\n",
       "    </tr>\n",
       "    <tr>\n",
       "      <th>5458</th>\n",
       "      <td>2008</td>\n",
       "      <td>chinese-grand-prix</td>\n",
       "      <td>Piquet</td>\n",
       "      <td>Renault</td>\n",
       "      <td>97.180</td>\n",
       "      <td>1.550</td>\n",
       "      <td>30.0</td>\n",
       "      <td>96.094</td>\n",
       "      <td>0.344</td>\n",
       "      <td>38.0</td>\n",
       "      <td>96.789</td>\n",
       "      <td>0.728</td>\n",
       "      <td>20.0</td>\n",
       "      <td>11.0</td>\n",
       "      <td>96.029</td>\n",
       "    </tr>\n",
       "    <tr>\n",
       "      <th>2209</th>\n",
       "      <td>2017</td>\n",
       "      <td>abu-dhabi-grand-prix</td>\n",
       "      <td>Massa</td>\n",
       "      <td>Williams</td>\n",
       "      <td>100.723</td>\n",
       "      <td>1.717</td>\n",
       "      <td>27.0</td>\n",
       "      <td>99.635</td>\n",
       "      <td>1.758</td>\n",
       "      <td>36.0</td>\n",
       "      <td>99.383</td>\n",
       "      <td>1.756</td>\n",
       "      <td>16.0</td>\n",
       "      <td>10.0</td>\n",
       "      <td>98.629</td>\n",
       "    </tr>\n",
       "    <tr>\n",
       "      <th>5601</th>\n",
       "      <td>2007</td>\n",
       "      <td>canadian-grand-prix</td>\n",
       "      <td>Schumacher</td>\n",
       "      <td>Toyota</td>\n",
       "      <td>78.652</td>\n",
       "      <td>0.893</td>\n",
       "      <td>32.0</td>\n",
       "      <td>79.331</td>\n",
       "      <td>2.781</td>\n",
       "      <td>16.0</td>\n",
       "      <td>77.748</td>\n",
       "      <td>1.677</td>\n",
       "      <td>13.0</td>\n",
       "      <td>18.0</td>\n",
       "      <td>77.634</td>\n",
       "    </tr>\n",
       "    <tr>\n",
       "      <th>...</th>\n",
       "      <td>...</td>\n",
       "      <td>...</td>\n",
       "      <td>...</td>\n",
       "      <td>...</td>\n",
       "      <td>...</td>\n",
       "      <td>...</td>\n",
       "      <td>...</td>\n",
       "      <td>...</td>\n",
       "      <td>...</td>\n",
       "      <td>...</td>\n",
       "      <td>...</td>\n",
       "      <td>...</td>\n",
       "      <td>...</td>\n",
       "      <td>...</td>\n",
       "      <td>...</td>\n",
       "    </tr>\n",
       "    <tr>\n",
       "      <th>5658</th>\n",
       "      <td>2007</td>\n",
       "      <td>british-grand-prix</td>\n",
       "      <td>Räikkönen</td>\n",
       "      <td>Ferrari</td>\n",
       "      <td>81.211</td>\n",
       "      <td>0.111</td>\n",
       "      <td>26.0</td>\n",
       "      <td>80.639</td>\n",
       "      <td>0.000</td>\n",
       "      <td>35.0</td>\n",
       "      <td>79.751</td>\n",
       "      <td>0.000</td>\n",
       "      <td>17.0</td>\n",
       "      <td>2.0</td>\n",
       "      <td>79.753</td>\n",
       "    </tr>\n",
       "    <tr>\n",
       "      <th>3314</th>\n",
       "      <td>2013</td>\n",
       "      <td>bahrain-grand-prix</td>\n",
       "      <td>Alonso</td>\n",
       "      <td>Ferrari</td>\n",
       "      <td>94.564</td>\n",
       "      <td>0.077</td>\n",
       "      <td>19.0</td>\n",
       "      <td>94.310</td>\n",
       "      <td>0.156</td>\n",
       "      <td>29.0</td>\n",
       "      <td>93.247</td>\n",
       "      <td>0.000</td>\n",
       "      <td>12.0</td>\n",
       "      <td>3.0</td>\n",
       "      <td>92.878</td>\n",
       "    </tr>\n",
       "    <tr>\n",
       "      <th>5961</th>\n",
       "      <td>2006</td>\n",
       "      <td>hungarian-grand-prix</td>\n",
       "      <td>Monteiro</td>\n",
       "      <td>Midland</td>\n",
       "      <td>87.321</td>\n",
       "      <td>5.697</td>\n",
       "      <td>8.0</td>\n",
       "      <td>84.508</td>\n",
       "      <td>2.730</td>\n",
       "      <td>8.0</td>\n",
       "      <td>83.819</td>\n",
       "      <td>3.024</td>\n",
       "      <td>12.0</td>\n",
       "      <td>16.0</td>\n",
       "      <td>82.009</td>\n",
       "    </tr>\n",
       "    <tr>\n",
       "      <th>1278</th>\n",
       "      <td>2019</td>\n",
       "      <td>monaco-grand-prix</td>\n",
       "      <td>Räikkönen</td>\n",
       "      <td>Alfa Romeo</td>\n",
       "      <td>73.363</td>\n",
       "      <td>1.257</td>\n",
       "      <td>39.0</td>\n",
       "      <td>72.342</td>\n",
       "      <td>1.224</td>\n",
       "      <td>51.0</td>\n",
       "      <td>72.308</td>\n",
       "      <td>1.043</td>\n",
       "      <td>27.0</td>\n",
       "      <td>14.0</td>\n",
       "      <td>71.993</td>\n",
       "    </tr>\n",
       "    <tr>\n",
       "      <th>1518</th>\n",
       "      <td>2019</td>\n",
       "      <td>brazilian-grand-prix</td>\n",
       "      <td>Gasly</td>\n",
       "      <td>Toro Rosso</td>\n",
       "      <td>78.100</td>\n",
       "      <td>1.958</td>\n",
       "      <td>17.0</td>\n",
       "      <td>70.352</td>\n",
       "      <td>1.135</td>\n",
       "      <td>26.0</td>\n",
       "      <td>69.625</td>\n",
       "      <td>1.305</td>\n",
       "      <td>19.0</td>\n",
       "      <td>7.0</td>\n",
       "      <td>68.909</td>\n",
       "    </tr>\n",
       "  </tbody>\n",
       "</table>\n",
       "<p>4046 rows × 15 columns</p>\n",
       "</div>"
      ],
      "text/plain": [
       "      Season             Grand Prix      Driver  Constructor  FP1 Time  \\\n",
       "1613    2018  azerbaijan-grand-prix      Stroll     Williams   106.590   \n",
       "2997    2014      monaco-grand-prix       Pérez  Force India    79.666   \n",
       "5458    2008     chinese-grand-prix      Piquet      Renault    97.180   \n",
       "2209    2017   abu-dhabi-grand-prix       Massa     Williams   100.723   \n",
       "5601    2007    canadian-grand-prix  Schumacher       Toyota    78.652   \n",
       "...      ...                    ...         ...          ...       ...   \n",
       "5658    2007     british-grand-prix   Räikkönen      Ferrari    81.211   \n",
       "3314    2013     bahrain-grand-prix      Alonso      Ferrari    94.564   \n",
       "5961    2006   hungarian-grand-prix    Monteiro      Midland    87.321   \n",
       "1278    2019      monaco-grand-prix   Räikkönen   Alfa Romeo    73.363   \n",
       "1518    2019   brazilian-grand-prix       Gasly   Toro Rosso    78.100   \n",
       "\n",
       "      FP1 Gap  FP1 Laps  FP2 Time  FP2 Gap  FP2 Laps  FP3 Time  FP3 Gap  \\\n",
       "1613    2.348      26.0   104.459    1.664      31.0   104.123    1.032   \n",
       "2997    1.395      29.0    79.668    1.186       9.0    77.725    0.967   \n",
       "5458    1.550      30.0    96.094    0.344      38.0    96.789    0.728   \n",
       "2209    1.717      27.0    99.635    1.758      36.0    99.383    1.756   \n",
       "5601    0.893      32.0    79.331    2.781      16.0    77.748    1.677   \n",
       "...       ...       ...       ...      ...       ...       ...      ...   \n",
       "5658    0.111      26.0    80.639    0.000      35.0    79.751    0.000   \n",
       "3314    0.077      19.0    94.310    0.156      29.0    93.247    0.000   \n",
       "5961    5.697       8.0    84.508    2.730       8.0    83.819    3.024   \n",
       "1278    1.257      39.0    72.342    1.224      51.0    72.308    1.043   \n",
       "1518    1.958      17.0    70.352    1.135      26.0    69.625    1.305   \n",
       "\n",
       "      FP3 Laps  Grid Position  Qualifying Time  \n",
       "1613       8.0           11.0          104.359  \n",
       "2997      23.0           10.0           78.108  \n",
       "5458      20.0           11.0           96.029  \n",
       "2209      16.0           10.0           98.629  \n",
       "5601      13.0           18.0           77.634  \n",
       "...        ...            ...              ...  \n",
       "5658      17.0            2.0           79.753  \n",
       "3314      12.0            3.0           92.878  \n",
       "5961      12.0           16.0           82.009  \n",
       "1278      27.0           14.0           71.993  \n",
       "1518      19.0            7.0           68.909  \n",
       "\n",
       "[4046 rows x 15 columns]"
      ]
     },
     "execution_count": 19,
     "metadata": {},
     "output_type": "execute_result"
    }
   ],
   "source": [
    "F1_train"
   ]
  },
  {
   "cell_type": "code",
   "execution_count": null,
   "id": "552a3e95",
   "metadata": {},
   "outputs": [],
   "source": []
  }
 ],
 "metadata": {
  "kernelspec": {
   "display_name": "Python 3 (ipykernel)",
   "language": "python",
   "name": "python3"
  },
  "language_info": {
   "codemirror_mode": {
    "name": "ipython",
    "version": 3
   },
   "file_extension": ".py",
   "mimetype": "text/x-python",
   "name": "python",
   "nbconvert_exporter": "python",
   "pygments_lexer": "ipython3",
   "version": "3.11.7"
  }
 },
 "nbformat": 4,
 "nbformat_minor": 5
}
