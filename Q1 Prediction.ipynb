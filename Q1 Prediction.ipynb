{
 "cells": [
  {
   "cell_type": "code",
   "execution_count": 32,
   "id": "99afc496",
   "metadata": {},
   "outputs": [],
   "source": [
    "import pandas as pd\n",
    "import numpy as np\n",
    "import math\n",
    "\n",
    "import matplotlib.pyplot as plt\n",
    "import seaborn as sns\n",
    "from seaborn import set_style\n",
    "set_style(\"whitegrid\")"
   ]
  },
  {
   "cell_type": "code",
   "execution_count": 33,
   "id": "33a38bef",
   "metadata": {},
   "outputs": [],
   "source": [
    "def powerset(s):\n",
    "    power_set = [[]]\n",
    "    for x in s:\n",
    "        power_set += [s0+[x] for s0 in power_set]\n",
    "    return power_set[1:]"
   ]
  },
  {
   "cell_type": "code",
   "execution_count": 34,
   "id": "b03440b4",
   "metadata": {},
   "outputs": [],
   "source": [
    "df = pd.read_csv('WORKINGF1Data.csv')"
   ]
  },
  {
   "cell_type": "code",
   "execution_count": 35,
   "id": "4ef88c53",
   "metadata": {},
   "outputs": [],
   "source": [
    "F1_master_test = df[df['Season'] >= 2021]\n",
    "F1_2020 = df[df['Season'] <= 2020]\n",
    "F1 = F1_2020[F1_2020['Qualifying Time'] > 30]"
   ]
  },
  {
   "cell_type": "code",
   "execution_count": 36,
   "id": "da8e78cf",
   "metadata": {},
   "outputs": [],
   "source": [
    "potential_features = ['FP1 Time', 'FP1 Gap', 'FP1 Laps',\n",
    "                      'FP2 Time', 'FP2 Gap', 'FP2 Laps',\n",
    "                      'FP3 Time', 'FP3 Gap', 'FP3 Laps']\n",
    "\n",
    "all_models = ['baseline']\n",
    "all_models.extend(powerset(potential_features))"
   ]
  },
  {
   "cell_type": "code",
   "execution_count": 37,
   "id": "979f06c2",
   "metadata": {},
   "outputs": [],
   "source": [
    "from sklearn.model_selection import train_test_split"
   ]
  },
  {
   "cell_type": "code",
   "execution_count": 38,
   "id": "c8db1f66",
   "metadata": {},
   "outputs": [],
   "source": [
    "F1_train, F1_test = train_test_split(F1, test_size = .2, random_state = 949, shuffle = True)"
   ]
  },
  {
   "cell_type": "code",
   "execution_count": 39,
   "id": "2bb7f009",
   "metadata": {},
   "outputs": [],
   "source": [
    "## import KFold, Linear Regression, and kNeighborsRegressor here\n",
    "from sklearn.model_selection import KFold\n",
    "from sklearn.linear_model import LinearRegression\n",
    "from sklearn.neighbors import KNeighborsRegressor\n",
    "\n",
    "## import mean_squared_error\n",
    "from sklearn.metrics import mean_squared_error"
   ]
  },
  {
   "cell_type": "code",
   "execution_count": 40,
   "id": "829ec7e9",
   "metadata": {},
   "outputs": [],
   "source": [
    "kfold = KFold(5, random_state = 818, shuffle = True)\n",
    "mses = np.zeros((len(all_models), 5))"
   ]
  },
  {
   "cell_type": "code",
   "execution_count": 41,
   "id": "2d8c5577",
   "metadata": {},
   "outputs": [],
   "source": [
    "j = 0\n",
    "for train_index, test_index in kfold.split(F1_train):\n",
    "    F1_tt = F1_train.iloc[train_index]\n",
    "    F1_ho = F1_train.iloc[test_index]\n",
    "    \n",
    "    i = 0\n",
    "    for model in all_models:\n",
    "        if model == \"baseline\":\n",
    "            pred = F1_tt['Qualifying Time'].mean() * np.ones(len(F1_ho))\n",
    "            mses[i, j] = mean_squared_error(F1_ho['Qualifying Time'], pred)\n",
    "        else:\n",
    "            if len(model) == 1:\n",
    "                reg = LinearRegression()\n",
    "                reg.fit(F1_tt[model].values.reshape(-1,1), F1_tt['Qualifying Time'])\n",
    "                pred = reg.predict(F1_ho[model].values.reshape(-1,1))\n",
    "                mses[i, j] = mean_squared_error(F1_ho['Qualifying Time'], pred)\n",
    "            else:\n",
    "                reg = LinearRegression()\n",
    "                reg.fit(F1_tt[model].values, F1_tt['Qualifying Time'])\n",
    "                pred = reg.predict(F1_ho[model].values)\n",
    "                mses[i, j] = mean_squared_error(F1_ho['Qualifying Time'], pred)\n",
    "        i = i + 1\n",
    "    j = j + 1"
   ]
  },
  {
   "cell_type": "code",
   "execution_count": 42,
   "id": "57497039",
   "metadata": {},
   "outputs": [
    {
     "data": {
      "text/plain": [
       "15.72329993956129"
      ]
     },
     "execution_count": 42,
     "metadata": {},
     "output_type": "execute_result"
    }
   ],
   "source": [
    "np.min(np.mean(mses, axis = 1))"
   ]
  },
  {
   "cell_type": "code",
   "execution_count": 43,
   "id": "ebb78c0b",
   "metadata": {},
   "outputs": [],
   "source": [
    "best_reg_model = all_models[np.argmin(np.mean(mses, axis=1))]"
   ]
  },
  {
   "cell_type": "code",
   "execution_count": 44,
   "id": "d5e068fe",
   "metadata": {},
   "outputs": [
    {
     "data": {
      "text/plain": [
       "17.460150027942223"
      ]
     },
     "execution_count": 44,
     "metadata": {},
     "output_type": "execute_result"
    }
   ],
   "source": [
    "best_reg = LinearRegression()\n",
    "best_reg.fit(F1_tt[best_reg_model].values, F1_tt['Qualifying Time'])\n",
    "pred_reg = best_reg.predict(F1_test[best_reg_model].values)\n",
    "mean_squared_error(F1_test['Qualifying Time'], pred_reg)"
   ]
  },
  {
   "cell_type": "code",
   "execution_count": 45,
   "id": "700c2ae4",
   "metadata": {},
   "outputs": [],
   "source": [
    "j = 0\n",
    "for train_index, test_index in kfold.split(F1_train):\n",
    "    F1_tt = F1_train.iloc[train_index]\n",
    "    F1_ho = F1_train.iloc[test_index]\n",
    "    \n",
    "    i = 0\n",
    "    for model in all_models:\n",
    "        if model == \"baseline\":\n",
    "            pred = F1_tt['Qualifying Time'].mean() * np.ones(len(F1_ho))\n",
    "            mses[i, j] = mean_squared_error(F1_ho['Qualifying Time'], pred)\n",
    "        else:\n",
    "            if len(model) == 1:\n",
    "                knn = KNeighborsRegressor(10)\n",
    "                knn.fit(F1_tt[model].values.reshape(-1,1), F1_tt['Qualifying Time'])\n",
    "                pred = knn.predict(F1_ho[model].values.reshape(-1,1))\n",
    "                mses[i, j] = mean_squared_error(F1_ho['Qualifying Time'], pred)\n",
    "            else:\n",
    "                knn = KNeighborsRegressor(10)\n",
    "                knn.fit(F1_tt[model].values, F1_tt['Qualifying Time'])\n",
    "                pred = knn.predict(F1_ho[model].values)\n",
    "                mses[i, j] = mean_squared_error(F1_ho['Qualifying Time'], pred)\n",
    "        i = i + 1\n",
    "    j = j + 1"
   ]
  },
  {
   "cell_type": "code",
   "execution_count": 46,
   "id": "2a7ff5b1",
   "metadata": {},
   "outputs": [
    {
     "data": {
      "text/plain": [
       "10.512633136187137"
      ]
     },
     "execution_count": 46,
     "metadata": {},
     "output_type": "execute_result"
    }
   ],
   "source": [
    "np.min(np.mean(mses, axis = 1))"
   ]
  },
  {
   "cell_type": "code",
   "execution_count": 47,
   "id": "c80488e2",
   "metadata": {},
   "outputs": [],
   "source": [
    "best_knn_model = all_models[np.argmin(np.mean(mses, axis=1))]"
   ]
  },
  {
   "cell_type": "code",
   "execution_count": 51,
   "id": "9a2207fe",
   "metadata": {},
   "outputs": [
    {
     "data": {
      "text/plain": [
       "13.609621319804772"
      ]
     },
     "execution_count": 51,
     "metadata": {},
     "output_type": "execute_result"
    }
   ],
   "source": [
    "best_knn = KNeighborsRegressor(10)\n",
    "best_knn.fit(F1_tt[best_knn_model].values, F1_tt['Qualifying Time'])\n",
    "pred_knn = best_knn.predict(F1_test[best_knn_model].values)\n",
    "mean_squared_error(F1_test['Qualifying Time'], pred_knn)"
   ]
  },
  {
   "cell_type": "code",
   "execution_count": 52,
   "id": "040f288d",
   "metadata": {},
   "outputs": [
    {
     "data": {
      "text/plain": [
       "16.80922974336538"
      ]
     },
     "execution_count": 52,
     "metadata": {},
     "output_type": "execute_result"
    }
   ],
   "source": [
    "master_pred_knn = best_knn.predict(F1_master_test[best_knn_model].values)\n",
    "mean_squared_error(F1_master_test['Qualifying Time'], master_pred_knn)"
   ]
  },
  {
   "cell_type": "code",
   "execution_count": null,
   "id": "44f8d497",
   "metadata": {},
   "outputs": [],
   "source": []
  }
 ],
 "metadata": {
  "kernelspec": {
   "display_name": "Python 3 (ipykernel)",
   "language": "python",
   "name": "python3"
  },
  "language_info": {
   "codemirror_mode": {
    "name": "ipython",
    "version": 3
   },
   "file_extension": ".py",
   "mimetype": "text/x-python",
   "name": "python",
   "nbconvert_exporter": "python",
   "pygments_lexer": "ipython3",
   "version": "3.11.7"
  }
 },
 "nbformat": 4,
 "nbformat_minor": 5
}
